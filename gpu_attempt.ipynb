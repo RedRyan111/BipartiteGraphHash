{
 "cells": [
  {
   "cell_type": "code",
   "execution_count": 44,
   "metadata": {
    "collapsed": true,
    "ExecuteTime": {
     "start_time": "2023-09-07T23:51:40.816464Z",
     "end_time": "2023-09-07T23:51:40.826467Z"
    }
   },
   "outputs": [],
   "source": [
    "import numpy as np\n",
    "import time\n",
    "from sorted_row_collisions import *\n",
    "from gpu_attempt_test import *\n",
    "from hash import *"
   ]
  },
  {
   "cell_type": "code",
   "execution_count": 45,
   "outputs": [],
   "source": [
    "#test_matrix(hash_adjacency_matrix)"
   ],
   "metadata": {
    "collapsed": false,
    "ExecuteTime": {
     "start_time": "2023-09-07T23:51:41.121115Z",
     "end_time": "2023-09-07T23:51:41.151461Z"
    }
   }
  },
  {
   "cell_type": "code",
   "execution_count": 45,
   "outputs": [],
   "source": [],
   "metadata": {
    "collapsed": false,
    "ExecuteTime": {
     "start_time": "2023-09-07T23:51:41.395833Z",
     "end_time": "2023-09-07T23:51:41.418146Z"
    }
   }
  },
  {
   "cell_type": "code",
   "execution_count": 46,
   "outputs": [
    {
     "name": "stdout",
     "output_type": "stream",
     "text": [
      "[[[2 2]\n",
      "  [2 1]\n",
      "  [3 1]\n",
      "  [2 2]]\n",
      "\n",
      " [[2 1]\n",
      "  [2 2]\n",
      "  [3 2]\n",
      "  [2 1]]\n",
      "\n",
      " [[2 1]\n",
      "  [2 2]\n",
      "  [3 3]\n",
      "  [2 1]]\n",
      "\n",
      " [[2 2]\n",
      "  [2 1]\n",
      "  [3 1]\n",
      "  [2 2]]]\n",
      "[[[2 2 2 3]\n",
      "  [1 1 2 2]\n",
      "  [0 0 1 1]]\n",
      "\n",
      " [[2 2 2 3]\n",
      "  [1 1 2 2]\n",
      "  [0 1 0 1]]\n",
      "\n",
      " [[2 2 2 3]\n",
      "  [1 1 2 2]\n",
      "  [0 1 0 1]]\n",
      "\n",
      " [[2 2 2 3]\n",
      "  [1 1 2 3]\n",
      "  [1 0 1 1]]]\n"
     ]
    },
    {
     "data": {
      "text/plain": "array([[0, 0, 1, 1],\n       [0, 1, 0, 1],\n       [0, 1, 0, 1],\n       [1, 0, 1, 1]])"
     },
     "execution_count": 46,
     "metadata": {},
     "output_type": "execute_result"
    }
   ],
   "source": [
    "size = 4\n",
    "matrix = np.random.randint(2, size=(size, size))\n",
    "#print(matrix)\n",
    "r_collisions = row_collisions(matrix)\n",
    "r_diag = np.diag(r_collisions).reshape(1, -1).repeat(r_collisions.shape[0], axis=0)\n",
    "#stacked_matrices = np.stack([r_collisions, r_diag], axis=2)\n",
    "stacked_matrices = np.stack([r_diag, r_collisions], axis=2)\n",
    "print(stacked_matrices)\n",
    "stacked_matrices = np.sort(stacked_matrices, axis=1)\n",
    "\n",
    "new_matrix = np.array([np.array([x,y,z]) for x, y, z in sorted(\n",
    "    zip(stacked_matrices[:, :, 0].tolist(), stacked_matrices[:, :, 1].tolist(), matrix.tolist()))])\n",
    "\n",
    "print(new_matrix)\n",
    "new_matrix[:,2,:]"
   ],
   "metadata": {
    "collapsed": false,
    "ExecuteTime": {
     "start_time": "2023-09-07T23:51:42.341914Z",
     "end_time": "2023-09-07T23:51:42.387924Z"
    }
   }
  },
  {
   "cell_type": "code",
   "execution_count": 67,
   "outputs": [
    {
     "name": "stdout",
     "output_type": "stream",
     "text": [
      "[0 1 3 2]\n",
      "----------------\n",
      "[[2 1 1 2]\n",
      " [1 2 2 1]\n",
      " [1 2 3 1]\n",
      " [2 1 1 2]]\n",
      "----------------\n",
      "[[2 1 2 1]\n",
      " [1 2 1 2]\n",
      " [2 1 2 1]\n",
      " [1 2 1 3]]\n",
      "----------------\n",
      "[[1 2 2 1]\n",
      " [1 1 2 2]\n",
      " [1 2 2 1]\n",
      " [1 1 2 3]]\n",
      "----------------\n",
      "[0 0 2 3]\n",
      "----------------\n",
      "[[1 2 2 1]\n",
      " [1 2 2 1]\n",
      " [1 1 2 2]\n",
      " [1 1 2 3]]\n",
      "----------------\n",
      "[0 2 0 3]\n",
      "----------------\n"
     ]
    },
    {
     "data": {
      "text/plain": "array([[0, 1, 0, 1],\n       [0, 0, 1, 1],\n       [1, 0, 1, 1],\n       [0, 1, 0, 1]])"
     },
     "execution_count": 67,
     "metadata": {},
     "output_type": "execute_result"
    }
   ],
   "source": [
    "r_collisions = get_row_collisions(matrix)\n",
    "r_collision_diag_indices = np.argsort(np.diag(r_collisions))\n",
    "print(r_collision_diag_indices)\n",
    "print('----------------')\n",
    "print(r_collisions)\n",
    "print('----------------')\n",
    "sorted_diag_r_collisions = r_collisions[r_collision_diag_indices][:, r_collision_diag_indices]\n",
    "print(sorted_diag_r_collisions)\n",
    "print('----------------')\n",
    "split_collisions = split_r_collisions(sorted_diag_r_collisions, unique_diags_list(sorted_diag_r_collisions))\n",
    "print(split_collisions)\n",
    "print('----------------')\n",
    "collision_order_1 = np.lexsort(split_collisions.T)#new_order_of_rows(split_collisions)\n",
    "print(collision_order)\n",
    "print('----------------')\n",
    "split_collisions = split_collisions[collision_order_1]\n",
    "print(split_collisions)\n",
    "print('----------------')\n",
    "collision_order = new_order_of_rows(split_collisions)\n",
    "print(collision_order[collision_order_1])\n",
    "print('----------------')\n",
    "diags = np.diag(r_collisions)\n",
    "indecis = np.lexsort(np.stack([diags, collision_order]))\n",
    "matrix[indecis]"
   ],
   "metadata": {
    "collapsed": false,
    "ExecuteTime": {
     "start_time": "2023-09-08T00:01:20.733681Z",
     "end_time": "2023-09-08T00:01:20.759685Z"
    }
   }
  },
  {
   "cell_type": "code",
   "execution_count": 51,
   "outputs": [
    {
     "data": {
      "text/plain": "array([[2, 1, 1, 2],\n       [1, 2, 2, 1],\n       [1, 2, 3, 1],\n       [2, 1, 1, 2]])"
     },
     "execution_count": 51,
     "metadata": {},
     "output_type": "execute_result"
    }
   ],
   "source": [
    "r_collisions = get_row_collisions(matrix)\n",
    "r_collisions"
   ],
   "metadata": {
    "collapsed": false,
    "ExecuteTime": {
     "start_time": "2023-09-07T23:52:32.902822Z",
     "end_time": "2023-09-07T23:52:32.929830Z"
    }
   }
  },
  {
   "cell_type": "code",
   "execution_count": 52,
   "outputs": [
    {
     "data": {
      "text/plain": "array([[1, 2, 1, 2],\n       [1, 2, 2, 1],\n       [1, 2, 3, 1],\n       [1, 2, 1, 2]])"
     },
     "execution_count": 52,
     "metadata": {},
     "output_type": "execute_result"
    }
   ],
   "source": [
    "split_collisions = split_r_collisions(r_collisions, unique_diags_list(r_collisions))\n",
    "split_collisions"
   ],
   "metadata": {
    "collapsed": false,
    "ExecuteTime": {
     "start_time": "2023-09-07T23:52:34.020782Z",
     "end_time": "2023-09-07T23:52:34.047788Z"
    }
   }
  },
  {
   "cell_type": "code",
   "execution_count": 49,
   "outputs": [
    {
     "data": {
      "text/plain": "array([1, 2, 0, 0], dtype=int64)"
     },
     "execution_count": 49,
     "metadata": {},
     "output_type": "execute_result"
    }
   ],
   "source": [
    "collision_order = new_order_of_rows(split_collisions)\n",
    "collision_order"
   ],
   "metadata": {
    "collapsed": false,
    "ExecuteTime": {
     "start_time": "2023-09-07T23:51:53.935780Z",
     "end_time": "2023-09-07T23:51:53.973297Z"
    }
   }
  },
  {
   "cell_type": "code",
   "execution_count": 33,
   "outputs": [],
   "source": [
    "def new_order_of_rows(collision_matrix):\n",
    "    prev_order = np.lexsort(collision_matrix.T)\n",
    "    #print(prev_order)\n",
    "    #print('----------------')\n",
    "    #print(f\"previous index: {prev_order}\")\n",
    "    prev_row = collision_matrix[prev_order][0]\n",
    "    prev_index = 0\n",
    "    for index, row in enumerate(collision_matrix[prev_order]):\n",
    "        #print(row)\n",
    "        if not np.allclose(prev_row, row):\n",
    "            prev_index = index\n",
    "            prev_row = row\n",
    "        prev_order[index] = prev_order[prev_index]\n",
    "    return prev_order"
   ],
   "metadata": {
    "collapsed": false,
    "ExecuteTime": {
     "start_time": "2023-09-07T23:48:26.001852Z",
     "end_time": "2023-09-07T23:48:26.008853Z"
    }
   }
  },
  {
   "cell_type": "code",
   "execution_count": 40,
   "outputs": [
    {
     "name": "stdout",
     "output_type": "stream",
     "text": [
      "[[ 0  2  2  3]\n",
      " [ 0 15 22 22]]\n",
      "[0 1 2 3]\n"
     ]
    },
    {
     "data": {
      "text/plain": "array([[0, 0, 0, 0],\n       [1, 0, 1, 0],\n       [0, 1, 0, 1],\n       [1, 1, 1, 0]])"
     },
     "execution_count": 40,
     "metadata": {},
     "output_type": "execute_result"
    }
   ],
   "source": [
    "r_collisions = get_row_collisions(matrix)\n",
    "collision_diags = np.diag(r_collisions)\n",
    "decimal_val = get_decimal_edge_distance(matrix)\n",
    "\n",
    "full_matrix = np.stack([collision_diags, decimal_val])\n",
    "print(full_matrix)\n",
    "print(np.lexsort(full_matrix))\n",
    "#print(f\"full matrix shape: {full_matrix.shape}\")\n",
    "#print(full_matrix)\n",
    "#row_order = new_order_of_rows(full_matrix)\n",
    "row_order = np.lexsort(full_matrix)\n",
    "\n",
    "#print(f\"row order: {row_order}\")\n",
    "\n",
    "#row_collisions = row_collisions[row_order][:, row_order]\n",
    "matrix[row_order]"
   ],
   "metadata": {
    "collapsed": false,
    "ExecuteTime": {
     "start_time": "2023-09-07T02:08:45.545791Z",
     "end_time": "2023-09-07T02:08:45.610465Z"
    }
   }
  },
  {
   "cell_type": "code",
   "execution_count": 49,
   "outputs": [
    {
     "data": {
      "text/plain": "(array([[0, 0, 0, 0],\n        [1, 0, 1, 0],\n        [0, 1, 0, 1],\n        [1, 1, 1, 0]]),\n array([[0],\n        [4],\n        [3],\n        [6]]),\n array([[1],\n        [1],\n        [1],\n        [1]]))"
     },
     "execution_count": 49,
     "metadata": {},
     "output_type": "execute_result"
    }
   ],
   "source": [
    "matrix_row_collisions_split_then_sorted_1(matrix[row_order])"
   ],
   "metadata": {
    "collapsed": false,
    "ExecuteTime": {
     "start_time": "2023-09-07T02:10:12.980205Z",
     "end_time": "2023-09-07T02:10:13.006211Z"
    }
   }
  },
  {
   "cell_type": "code",
   "execution_count": null,
   "outputs": [],
   "source": [
    "#compress the large graph by finding its graph isomorphism, save the top-left part of the 2D matrix"
   ],
   "metadata": {
    "collapsed": false
   }
  },
  {
   "cell_type": "code",
   "execution_count": 42,
   "outputs": [],
   "source": [
    "def get_decimal_edge_distance(adjacency_matrix):\n",
    "    return np.sum(np.matmul(\n",
    "        adjacency_matrix,\n",
    "        2 ** get_edge_distance_matrix(adjacency_matrix.shape[0], adjacency_matrix.shape[1])),\n",
    "        axis=1)"
   ],
   "metadata": {
    "collapsed": false,
    "ExecuteTime": {
     "start_time": "2023-09-07T02:10:06.754130Z",
     "end_time": "2023-09-07T02:10:06.784139Z"
    }
   }
  },
  {
   "cell_type": "code",
   "execution_count": 43,
   "outputs": [],
   "source": [
    "def get_edge_distance_matrix(height, width):\n",
    "    arr_1 = np.arange(width)\n",
    "    arr_2 = np.arange(height).reshape(height, 1)\n",
    "\n",
    "    repeated_arr_1 = np.tile(arr_1, (height, 1))\n",
    "    repeated_arr_2 = np.tile(arr_2, (1, width))\n",
    "\n",
    "    return np.minimum(repeated_arr_1, repeated_arr_2)"
   ],
   "metadata": {
    "collapsed": false,
    "ExecuteTime": {
     "start_time": "2023-09-07T02:10:06.948376Z",
     "end_time": "2023-09-07T02:10:06.971381Z"
    }
   }
  },
  {
   "cell_type": "code",
   "execution_count": 44,
   "outputs": [],
   "source": [
    "def get_score(adjacency_matrix):\n",
    "    row_sum = np.sum(adjacency_matrix, axis=0)\n",
    "    col_score = np.matmul(row_sum, adjacency_matrix.T)\n",
    "    return col_score"
   ],
   "metadata": {
    "collapsed": false,
    "ExecuteTime": {
     "start_time": "2023-09-07T02:10:07.143125Z",
     "end_time": "2023-09-07T02:10:07.179349Z"
    }
   }
  },
  {
   "cell_type": "code",
   "execution_count": 45,
   "outputs": [],
   "source": [
    "#maybe sort by decimal last?\n",
    "def matrix_row_collisions_split_then_sorted_1(matrix):\n",
    "    matrix, row_collisions = get_matrix_and_row_collisions_sorted_by_row_collision_diagonals(matrix)\n",
    "\n",
    "    diags = np.sum(row_collisions, axis=1)\n",
    "\n",
    "    #get row collision order\n",
    "    row_collisions = sort_chunked_row_collisions(row_collisions)\n",
    "    #row_collision_order = custom_row_order(np.fliplr(row_collisions)).reshape(-1,1)\n",
    "    row_collision_order = order_of_rows(row_collisions).reshape(-1,1) #since this gets sorted, this should be fine to order???\n",
    "\n",
    "    return matrix, diags.reshape(-1,1), row_collision_order"
   ],
   "metadata": {
    "collapsed": false,
    "ExecuteTime": {
     "start_time": "2023-09-07T02:10:07.348365Z",
     "end_time": "2023-09-07T02:10:07.379370Z"
    }
   }
  },
  {
   "cell_type": "code",
   "execution_count": 46,
   "outputs": [],
   "source": [
    "def new_order_of_rows(collision_matrix):\n",
    "    prev_order = np.lexsort(collision_matrix.T)\n",
    "    #print(f\"previous index: {prev_order}\")\n",
    "    prev_row = collision_matrix[prev_order][0]\n",
    "    prev_index = 0\n",
    "    for index, row in enumerate(collision_matrix[prev_order]):\n",
    "        #print(row)\n",
    "        if not np.allclose(prev_row, row):\n",
    "            prev_index = index\n",
    "            prev_row = row\n",
    "        prev_order[index] = prev_order[prev_index]\n",
    "    return prev_order"
   ],
   "metadata": {
    "collapsed": false,
    "ExecuteTime": {
     "start_time": "2023-09-07T02:10:07.855389Z",
     "end_time": "2023-09-07T02:10:07.892401Z"
    }
   }
  },
  {
   "cell_type": "code",
   "execution_count": 47,
   "outputs": [],
   "source": [
    "def new_hash(matrix):\n",
    "    matrix, row_collisions, col_collisions = new_matrix_row_and_col_collisions(matrix)\n",
    "    #matrix, row_collisions, col_collisions = new_matrix_row_and_col_collisions(matrix.T)\n",
    "    #return matrix\n",
    "\n",
    "    matrix = sort_adjacency_matrix_by_scores_and_decimal(matrix.T).T\n",
    "    matrix = sort_adjacency_matrix_by_scores_and_decimal(matrix)\n",
    "    return matrix\n",
    "\n",
    "    #row sort starts\n",
    "    row_collision_diags = np.diag(row_collisions).reshape(-1,1)\n",
    "    decimal_matrix = get_row_bit_scores(matrix).reshape(-1,1)\n",
    "\n",
    "    row_sorting_matrix = np.concatenate([row_collision_diags, row_collisions, decimal_matrix],axis=1)\n",
    "    argsorted_rows_indecis = new_order_of_rows(row_sorting_matrix)\n",
    "    matrix = matrix[argsorted_rows_indecis]\n",
    "\n",
    "    #col sort starts\n",
    "    col_collision_diags = np.diag(col_collisions).reshape(-1,1)\n",
    "    decimal_matrix = get_row_bit_scores(matrix.T).reshape(-1,1)\n",
    "\n",
    "    row_sorting_matrix = np.concatenate([col_collision_diags, col_collisions, decimal_matrix],axis=1)\n",
    "    argsorted_rows_indecis = new_order_of_rows(row_sorting_matrix)\n",
    "    matrix = matrix.T[argsorted_rows_indecis]\n",
    "\n",
    "    return matrix.T"
   ],
   "metadata": {
    "collapsed": false,
    "ExecuteTime": {
     "start_time": "2023-09-07T02:10:08.326375Z",
     "end_time": "2023-09-07T02:10:08.354382Z"
    }
   }
  },
  {
   "cell_type": "code",
   "execution_count": 48,
   "outputs": [],
   "source": [
    "def new_matrix_row_and_col_collisions(matrix):\n",
    "    matrix_T, col_collisions = new_get_matrix_and_row_collisions_sorted_by_row_collision_diagonals(matrix.T)\n",
    "    matrix, row_collisions = new_get_matrix_and_row_collisions_sorted_by_row_collision_diagonals(matrix_T.T)\n",
    "\n",
    "    #matrix = matrix_T.T\n",
    "    return matrix, row_collisions, col_collisions\n",
    "\n",
    "\n",
    "def new_get_matrix_and_row_collisions_sorted_by_row_collision_diagonals(matrix):\n",
    "    row_collisions = get_row_collisions(matrix)\n",
    "    collision_diags = np.diag(row_collisions)\n",
    "    score = get_score(matrix)\n",
    "    print(f\"matrix: {matrix.shape}\")\n",
    "    decimal_val = get_decimal_edge_distance(matrix)\n",
    "\n",
    "    full_matrix = np.stack([collision_diags, decimal_val])\n",
    "    #print(f\"full matrix shape: {full_matrix.shape}\")\n",
    "    #print(full_matrix)\n",
    "    #row_order = new_order_of_rows(full_matrix)\n",
    "    #row_order = np.lexsort(full_matrix)\n",
    "\n",
    "    print(f\"row order: {row_order}\")\n",
    "\n",
    "    row_collisions = row_collisions[row_order][:, row_order]\n",
    "    new_matrix = matrix[row_order]\n",
    "    return new_matrix, row_collisions"
   ],
   "metadata": {
    "collapsed": false,
    "ExecuteTime": {
     "start_time": "2023-09-07T02:10:09.123214Z",
     "end_time": "2023-09-07T02:10:09.164362Z"
    }
   }
  },
  {
   "cell_type": "code",
   "execution_count": 60,
   "outputs": [
    {
     "data": {
      "text/plain": "array([[0, 1, 0, 0],\n       [0, 1, 1, 1],\n       [1, 1, 0, 1],\n       [1, 0, 1, 0]])"
     },
     "execution_count": 60,
     "metadata": {},
     "output_type": "execute_result"
    }
   ],
   "source": [
    "size = 4\n",
    "matrix = np.random.randint(2, size=(size, size))\n",
    "matrix"
   ],
   "metadata": {
    "collapsed": false,
    "ExecuteTime": {
     "start_time": "2023-09-07T01:54:03.590649Z",
     "end_time": "2023-09-07T01:54:03.597651Z"
    }
   }
  },
  {
   "cell_type": "code",
   "execution_count": 61,
   "outputs": [
    {
     "name": "stdout",
     "output_type": "stream",
     "text": [
      "matrix; (4, 4)\n",
      "row order: [0 3 2 1]\n",
      "matrix; (4, 4)\n",
      "row order: [0 2 3 1]\n",
      "matrix; (4, 4)\n",
      "row order: [0 1 2 3]\n",
      "matrix; (4, 4)\n",
      "row order: [1 0 2 3]\n"
     ]
    },
    {
     "data": {
      "text/plain": "array([[1, 1, 0, 0],\n       [0, 0, 0, 1],\n       [1, 0, 1, 1],\n       [0, 1, 1, 1]])"
     },
     "execution_count": 61,
     "metadata": {},
     "output_type": "execute_result"
    }
   ],
   "source": [
    "new_matrix, _, _ = new_matrix_row_and_col_collisions(matrix.T)\n",
    "new_matrix, _, _ = new_matrix_row_and_col_collisions(new_matrix.T)\n",
    "new_matrix"
   ],
   "metadata": {
    "collapsed": false,
    "ExecuteTime": {
     "start_time": "2023-09-07T01:54:03.946651Z",
     "end_time": "2023-09-07T01:54:03.968655Z"
    }
   }
  },
  {
   "cell_type": "code",
   "execution_count": 55,
   "outputs": [
    {
     "data": {
      "text/plain": "array([[0, 0, 1, 0],\n       [1, 0, 0, 0],\n       [1, 0, 0, 1],\n       [0, 1, 1, 1]])"
     },
     "execution_count": 55,
     "metadata": {},
     "output_type": "execute_result"
    }
   ],
   "source": [
    "hash_adjacency_matrix_helper(hash_adjacency_matrix_helper(matrix.T).T)"
   ],
   "metadata": {
    "collapsed": false,
    "ExecuteTime": {
     "start_time": "2023-09-07T01:53:44.936743Z",
     "end_time": "2023-09-07T01:53:44.941744Z"
    }
   }
  },
  {
   "cell_type": "code",
   "execution_count": 147,
   "outputs": [
    {
     "name": "stdout",
     "output_type": "stream",
     "text": [
      "num of matrices: 65536\n",
      "0\n",
      "[[0 0 0 0]\n",
      " [1 1 0 0]\n",
      " [0 0 0 1]\n",
      " [0 0 1 1]]\n",
      "[[0 0 0 0]\n",
      " [0 0 0 1]\n",
      " [0 1 1 0]\n",
      " [1 0 0 1]]\n"
     ]
    },
    {
     "ename": "AssertionError",
     "evalue": "",
     "output_type": "error",
     "traceback": [
      "\u001B[1;31m---------------------------------------------------------------------------\u001B[0m",
      "\u001B[1;31mAssertionError\u001B[0m                            Traceback (most recent call last)",
      "Cell \u001B[1;32mIn[147], line 1\u001B[0m\n\u001B[1;32m----> 1\u001B[0m \u001B[43mtest_matrix\u001B[49m\u001B[43m(\u001B[49m\u001B[43mnew_hash\u001B[49m\u001B[43m)\u001B[49m\n",
      "File \u001B[1;32m~\\BipartiteGraphHash\\gpu_attempt_test.py:94\u001B[0m, in \u001B[0;36mtest_matrix\u001B[1;34m(hash_matrix)\u001B[0m\n\u001B[0;32m     92\u001B[0m \u001B[38;5;28;01mif\u001B[39;00m count \u001B[38;5;241m%\u001B[39m \u001B[38;5;241m1000\u001B[39m \u001B[38;5;241m==\u001B[39m \u001B[38;5;241m0\u001B[39m:\n\u001B[0;32m     93\u001B[0m     \u001B[38;5;28mprint\u001B[39m(count)\n\u001B[1;32m---> 94\u001B[0m \u001B[43mfast_hash_testing\u001B[49m\u001B[43m(\u001B[49m\u001B[43mmat\u001B[49m\u001B[43m,\u001B[49m\u001B[43m \u001B[49m\u001B[43mhash_matrix\u001B[49m\u001B[43m)\u001B[49m\n\u001B[0;32m     95\u001B[0m count \u001B[38;5;241m+\u001B[39m\u001B[38;5;241m=\u001B[39m \u001B[38;5;241m1\u001B[39m\n",
      "File \u001B[1;32m~\\BipartiteGraphHash\\gpu_attempt_test.py:79\u001B[0m, in \u001B[0;36mfast_hash_testing\u001B[1;34m(matrix, hash_matrix)\u001B[0m\n\u001B[0;32m     77\u001B[0m         \u001B[38;5;28mprint\u001B[39m(format_array(i)\u001B[38;5;241m.\u001B[39mreshape((matrix\u001B[38;5;241m.\u001B[39mshape[\u001B[38;5;241m0\u001B[39m], matrix\u001B[38;5;241m.\u001B[39mshape[\u001B[38;5;241m1\u001B[39m])))\n\u001B[0;32m     78\u001B[0m     \u001B[38;5;66;03m# print(hash_dict)\u001B[39;00m\n\u001B[1;32m---> 79\u001B[0m \u001B[38;5;28;01massert\u001B[39;00m \u001B[38;5;28mlen\u001B[39m(hash_dict) \u001B[38;5;241m==\u001B[39m \u001B[38;5;241m1\u001B[39m\n",
      "\u001B[1;31mAssertionError\u001B[0m: "
     ]
    }
   ],
   "source": [
    "test_matrix(new_hash)"
   ],
   "metadata": {
    "collapsed": false
   }
  },
  {
   "cell_type": "code",
   "execution_count": 9,
   "outputs": [
    {
     "name": "stdout",
     "output_type": "stream",
     "text": [
      "num of matrices: 65536\n",
      "0\n",
      "[[0 0 0 0]\n",
      " [1 1 0 0]\n",
      " [0 0 0 1]\n",
      " [0 0 1 1]]\n",
      "[[0 0 0 0]\n",
      " [0 0 0 1]\n",
      " [0 1 1 0]\n",
      " [1 0 0 1]]\n"
     ]
    },
    {
     "ename": "AssertionError",
     "evalue": "",
     "output_type": "error",
     "traceback": [
      "\u001B[1;31m---------------------------------------------------------------------------\u001B[0m",
      "\u001B[1;31mAssertionError\u001B[0m                            Traceback (most recent call last)",
      "Cell \u001B[1;32mIn[9], line 1\u001B[0m\n\u001B[1;32m----> 1\u001B[0m \u001B[43mtest_matrix\u001B[49m\u001B[43m(\u001B[49m\u001B[43mhash_adjacency_matrix\u001B[49m\u001B[43m)\u001B[49m\n",
      "File \u001B[1;32m~\\BipartiteGraphHash\\gpu_attempt_test.py:94\u001B[0m, in \u001B[0;36mtest_matrix\u001B[1;34m(hash_matrix)\u001B[0m\n\u001B[0;32m     92\u001B[0m \u001B[38;5;28;01mif\u001B[39;00m count \u001B[38;5;241m%\u001B[39m \u001B[38;5;241m1000\u001B[39m \u001B[38;5;241m==\u001B[39m \u001B[38;5;241m0\u001B[39m:\n\u001B[0;32m     93\u001B[0m     \u001B[38;5;28mprint\u001B[39m(count)\n\u001B[1;32m---> 94\u001B[0m \u001B[43mfast_hash_testing\u001B[49m\u001B[43m(\u001B[49m\u001B[43mmat\u001B[49m\u001B[43m,\u001B[49m\u001B[43m \u001B[49m\u001B[43mhash_matrix\u001B[49m\u001B[43m)\u001B[49m\n\u001B[0;32m     95\u001B[0m count \u001B[38;5;241m+\u001B[39m\u001B[38;5;241m=\u001B[39m \u001B[38;5;241m1\u001B[39m\n",
      "File \u001B[1;32m~\\BipartiteGraphHash\\gpu_attempt_test.py:79\u001B[0m, in \u001B[0;36mfast_hash_testing\u001B[1;34m(matrix, hash_matrix)\u001B[0m\n\u001B[0;32m     77\u001B[0m         \u001B[38;5;28mprint\u001B[39m(format_array(i)\u001B[38;5;241m.\u001B[39mreshape((matrix\u001B[38;5;241m.\u001B[39mshape[\u001B[38;5;241m0\u001B[39m], matrix\u001B[38;5;241m.\u001B[39mshape[\u001B[38;5;241m1\u001B[39m])))\n\u001B[0;32m     78\u001B[0m     \u001B[38;5;66;03m# print(hash_dict)\u001B[39;00m\n\u001B[1;32m---> 79\u001B[0m \u001B[38;5;28;01massert\u001B[39;00m \u001B[38;5;28mlen\u001B[39m(hash_dict) \u001B[38;5;241m==\u001B[39m \u001B[38;5;241m1\u001B[39m\n",
      "\u001B[1;31mAssertionError\u001B[0m: "
     ]
    }
   ],
   "source": [
    "test_matrix(hash_adjacency_matrix)"
   ],
   "metadata": {
    "collapsed": false
   }
  },
  {
   "cell_type": "code",
   "execution_count": 8,
   "outputs": [],
   "source": [
    "def get_order_of_chunked_row_collisions(collision_matrix):\n",
    "    chunked_row_collisions = sort_chunked_row_collisions(collision_matrix)\n",
    "    chunked_row_order = new_order_of_rows(chunked_row_collisions)#.reshape(-1,1) #this is still wrong...\n",
    "    #print(f\"chunked collisions:\")\n",
    "    #print(chunked_row_collisions)\n",
    "    return chunked_row_order"
   ],
   "metadata": {
    "collapsed": false,
    "ExecuteTime": {
     "start_time": "2023-09-05T03:25:31.422992Z",
     "end_time": "2023-09-05T03:25:31.443996Z"
    }
   }
  },
  {
   "cell_type": "code",
   "execution_count": 9,
   "outputs": [],
   "source": [
    "def mini_hash(matrix):\n",
    "    matrix, row_collisions, col_collisions = matrix_row_and_col_collisions(matrix)\n",
    "\n",
    "    #print(\"-------------matrix-----------\")\n",
    "    #print(matrix)\n",
    "    #print(\"---------row collisions-----------\")\n",
    "    #print(row_collisions)\n",
    "    #print(\"---------col collisions-----------\")\n",
    "    #print(col_collisions)\n",
    "\n",
    "\n",
    "    #start row sorts\n",
    "    chunked_row_order = get_order_of_chunked_row_collisions(row_collisions).reshape(-1,1)\n",
    "    decimal_matrix = get_row_bit_scores(matrix).reshape(-1,1)\n",
    "\n",
    "    row_sorting_matrix = np.concatenate([chunked_row_order, decimal_matrix],axis=1)\n",
    "    #print(f\"row sorting matrix:\")\n",
    "    #print(row_sorting_matrix)\n",
    "    argsorted_rows_indecis = new_order_of_rows(np.fliplr(row_sorting_matrix))#order_of_rows(row_sorting_matrix)\n",
    "\n",
    "    #print(f\"arg sorted rows: {argsorted_rows_indecis.reshape(-1)}\")\n",
    "\n",
    "    matrix = matrix[argsorted_rows_indecis]\n",
    "    #print(\"matrix after row sorts\")\n",
    "    #print(matrix)\n",
    "\n",
    "    #col sort starts\n",
    "    chunked_col_order = get_order_of_chunked_row_collisions(col_collisions).reshape(-1,1)\n",
    "    decimal_matrix = get_row_bit_scores(matrix.T).reshape(-1,1)\n",
    "\n",
    "    col_sorting_matrix = np.concatenate([chunked_col_order, decimal_matrix],axis=1)\n",
    "    #print(f\"col sorting matrix:\")\n",
    "    #print(col_sorting_matrix)\n",
    "    argsorted_cols_indecis = new_order_of_rows(np.fliplr(col_sorting_matrix))#order_of_rows(row_sorting_matrix)\n",
    "    #print(f\"arg sorted cols: {argsorted_cols_indecis.reshape(-1)}\")\n",
    "    matrix = matrix[:, argsorted_cols_indecis]\n",
    "\n",
    "    #print(\"matrix after col sorts\")\n",
    "    #print(matrix)\n",
    "    #print(\"--------------------\")\n",
    "    #print(row_collisions)\n",
    "    #print(\"--------------------\")\n",
    "    #print(col_collisions)\n",
    "\n",
    "    return matrix"
   ],
   "metadata": {
    "collapsed": false,
    "ExecuteTime": {
     "start_time": "2023-09-05T03:25:32.193087Z",
     "end_time": "2023-09-05T03:25:32.215404Z"
    }
   }
  },
  {
   "cell_type": "code",
   "execution_count": 32,
   "outputs": [],
   "source": [
    "def mini_hash_2_1(matrix):\n",
    "    matrix, row_collisions, col_collisions = matrix_row_and_col_collisions(matrix)\n",
    "\n",
    "    #start row sorts\n",
    "    chunked_row_order = get_order_of_chunked_row_collisions(row_collisions).reshape(-1,1)\n",
    "    decimal_matrix = get_row_bit_scores(matrix).reshape(-1,1)\n",
    "\n",
    "    row_sorting_matrix = np.concatenate([decimal_matrix, chunked_row_order],axis=1)\n",
    "    argsorted_rows_indecis = new_order_of_rows(row_sorting_matrix)\n",
    "\n",
    "    matrix = matrix[argsorted_rows_indecis]\n",
    "\n",
    "    #col sort starts\n",
    "    chunked_col_order = get_order_of_chunked_row_collisions(col_collisions).reshape(-1,1)\n",
    "    decimal_matrix = get_row_bit_scores(matrix.T).reshape(-1,1)\n",
    "\n",
    "    col_sorting_matrix = np.concatenate([decimal_matrix, chunked_col_order],axis=1)\n",
    "    argsorted_cols_indecis = new_order_of_rows(col_sorting_matrix)\n",
    "    matrix = matrix[:, argsorted_cols_indecis]\n",
    "\n",
    "    return matrix"
   ],
   "metadata": {
    "collapsed": false,
    "ExecuteTime": {
     "start_time": "2023-09-05T03:44:31.949214Z",
     "end_time": "2023-09-05T03:44:31.969933Z"
    }
   }
  },
  {
   "cell_type": "code",
   "execution_count": 11,
   "outputs": [],
   "source": [
    "def mini_hash_2(matrix):\n",
    "    return mini_hash(mini_hash(matrix))\n",
    "\n",
    "def mini_hash_2_2(matrix):\n",
    "    return mini_hash_2_1(mini_hash_2_1(matrix))"
   ],
   "metadata": {
    "collapsed": false,
    "ExecuteTime": {
     "start_time": "2023-09-05T03:25:33.639141Z",
     "end_time": "2023-09-05T03:25:33.654145Z"
    }
   }
  },
  {
   "cell_type": "code",
   "execution_count": 12,
   "outputs": [],
   "source": [
    "def mini_hash_3(matrix):\n",
    "    matrix, row_collisions, col_collisions = matrix_row_and_col_collisions(matrix)\n",
    "\n",
    "    #start row sorts\n",
    "    chunked_row_order = np.argsort(get_order_of_chunked_row_collisions(row_collisions))\n",
    "    chunked_col_order = np.argsort(get_order_of_chunked_row_collisions(col_collisions))\n",
    "    matrix = matrix[chunked_row_order][:, chunked_col_order]\n",
    "\n",
    "    matrix = sort_adjacency_matrix_by_scores_and_decimal(matrix.T).T\n",
    "    matrix = sort_adjacency_matrix_by_scores_and_decimal(matrix)\n",
    "\n",
    "    return matrix"
   ],
   "metadata": {
    "collapsed": false,
    "ExecuteTime": {
     "start_time": "2023-09-05T03:25:34.162645Z",
     "end_time": "2023-09-05T03:25:34.190656Z"
    }
   }
  },
  {
   "cell_type": "code",
   "execution_count": 102,
   "outputs": [],
   "source": [
    "a = format_array('[[0 0 0 1] [1 0 0 1] [0 1 1 0] [0 0 0 0]]')\n",
    "b = format_array('[[0 0 0 0] [0 0 0 1] [1 1 0 0] [0 0 1 1]]')\n",
    "c = format_array('[[0 0 0 1] [0 1 1 0] [1 0 0 1] [0 0 0 0]]')"
   ],
   "metadata": {
    "collapsed": false,
    "ExecuteTime": {
     "start_time": "2023-09-06T02:39:17.396524Z",
     "end_time": "2023-09-06T02:39:17.415962Z"
    }
   }
  },
  {
   "cell_type": "code",
   "execution_count": 35,
   "outputs": [],
   "source": [
    "a = format_array('[[0 0 0 0] [0 0 1 0] [1 0 0 0] [0 1 0 1]]')\n",
    "b = format_array('[[0 0 0 0] [1 0 0 0] [0 0 1 0] [0 1 0 1]]')\n",
    "c = b.T"
   ],
   "metadata": {
    "collapsed": false,
    "ExecuteTime": {
     "start_time": "2023-09-05T03:47:09.994879Z",
     "end_time": "2023-09-05T03:47:10.014885Z"
    }
   }
  },
  {
   "cell_type": "code",
   "execution_count": 36,
   "outputs": [
    {
     "data": {
      "text/plain": "array([[0, 0, 0, 0],\n       [0, 0, 1, 0],\n       [1, 0, 0, 0],\n       [0, 1, 0, 1]])"
     },
     "execution_count": 36,
     "metadata": {},
     "output_type": "execute_result"
    }
   ],
   "source": [
    "a"
   ],
   "metadata": {
    "collapsed": false,
    "ExecuteTime": {
     "start_time": "2023-09-05T03:47:10.238534Z",
     "end_time": "2023-09-05T03:47:10.257538Z"
    }
   }
  },
  {
   "cell_type": "code",
   "execution_count": 49,
   "outputs": [
    {
     "name": "stdout",
     "output_type": "stream",
     "text": [
      "matrix\n",
      "[[0 1 1 1]\n",
      " [0 0 1 1]\n",
      " [0 0 0 1]\n",
      " [0 0 1 0]]\n",
      "row collisions\n",
      "[[3 2 1 1]\n",
      " [2 2 1 1]\n",
      " [1 1 1 0]\n",
      " [1 1 0 1]]\n",
      "stacked matrices\n",
      "shape: (4, 4, 2)\n",
      "[[[3 3]\n",
      "  [2 2]\n",
      "  [1 1]\n",
      "  [1 1]]\n",
      "\n",
      " [[2 3]\n",
      "  [2 2]\n",
      "  [1 1]\n",
      "  [1 1]]\n",
      "\n",
      " [[1 3]\n",
      "  [1 2]\n",
      "  [1 1]\n",
      "  [0 1]]\n",
      "\n",
      " [[1 3]\n",
      "  [1 2]\n",
      "  [0 1]\n",
      "  [1 1]]]\n",
      "shape: (4, 4, 2)\n",
      "sorted stacked matrices\n",
      "[[[1 1]\n",
      "  [1 1]\n",
      "  [2 2]\n",
      "  [3 3]]\n",
      "\n",
      " [[1 1]\n",
      "  [1 1]\n",
      "  [2 2]\n",
      "  [2 3]]\n",
      "\n",
      " [[0 1]\n",
      "  [1 1]\n",
      "  [1 2]\n",
      "  [1 3]]\n",
      "\n",
      " [[0 1]\n",
      "  [1 1]\n",
      "  [1 2]\n",
      "  [1 3]]]\n",
      "at 0\n",
      "[[1 1 2 3]\n",
      " [1 1 2 2]\n",
      " [0 1 1 1]\n",
      " [0 1 1 1]]\n",
      "at 1\n",
      "[[1 1 2 3]\n",
      " [1 1 2 3]\n",
      " [1 1 2 3]\n",
      " [1 1 2 3]]\n",
      "order of rows\n",
      "[[2 3 0 1]\n",
      " [0 1 2 3]\n",
      " [2 3 0 1]\n",
      " [2 3 1 0]]\n"
     ]
    },
    {
     "data": {
      "text/plain": "array([[0, 0, 0, 1],\n       [0, 0, 1, 0],\n       [0, 0, 1, 1],\n       [0, 1, 1, 1]])"
     },
     "execution_count": 49,
     "metadata": {},
     "output_type": "execute_result"
    }
   ],
   "source": [
    "matrix = np.random.randint(2, size=(4, 4))#a\n",
    "print(\"matrix\")\n",
    "print(matrix)\n",
    "r_collisions = row_collisions(matrix)\n",
    "r_diag = np.diag(r_collisions).reshape(1, -1).repeat(r_collisions.shape[0], axis=0)\n",
    "stacked_matrices = np.stack([r_collisions, r_diag], axis=2)\n",
    "\n",
    "print(f\"row collisions\")\n",
    "print(r_collisions)\n",
    "\n",
    "print(f\"stacked matrices\")\n",
    "print(f\"shape: {stacked_matrices.shape}\")\n",
    "print(stacked_matrices)\n",
    "\n",
    "stacked_matrices = np.sort(stacked_matrices, axis=1)\n",
    "\n",
    "print(f\"shape: {stacked_matrices.shape}\")\n",
    "print(f\"sorted stacked matrices\")\n",
    "print(stacked_matrices)\n",
    "\n",
    "print(f\"at 0\")\n",
    "print(stacked_matrices[:, :, 0])\n",
    "print(f\"at 1\")\n",
    "print(stacked_matrices[:, :, 1])\n",
    "\n",
    "matrix = np.array([x for _, _, x in sorted(\n",
    "    zip(stacked_matrices[:, :, 0].tolist(), stacked_matrices[:, :, 1].tolist(), matrix.tolist()))])\n",
    "\n",
    "#print(\"order of rows\")\n",
    "#print(new_order_of_rows(stacked_matrices))\n",
    "\n",
    "\n",
    "matrix"
   ],
   "metadata": {
    "collapsed": false,
    "ExecuteTime": {
     "start_time": "2023-09-05T04:01:17.379130Z",
     "end_time": "2023-09-05T04:01:17.422145Z"
    }
   }
  },
  {
   "cell_type": "code",
   "execution_count": 15,
   "outputs": [
    {
     "name": "stdout",
     "output_type": "stream",
     "text": [
      "[[0 0 0 0]\n",
      " [0 0 1 0]\n",
      " [1 0 0 0]\n",
      " [0 1 0 1]]\n"
     ]
    },
    {
     "data": {
      "text/plain": "array([[0, 0, 0, 0],\n       [1, 0, 0, 0],\n       [0, 1, 0, 0],\n       [0, 0, 1, 1]])"
     },
     "execution_count": 15,
     "metadata": {},
     "output_type": "execute_result"
    }
   ],
   "source": [
    "print(a)\n",
    "matrix = mini_hash(a)\n",
    "matrix"
   ],
   "metadata": {
    "collapsed": false,
    "ExecuteTime": {
     "start_time": "2023-09-05T03:25:35.218088Z",
     "end_time": "2023-09-05T03:25:35.244093Z"
    }
   }
  },
  {
   "cell_type": "code",
   "execution_count": 16,
   "outputs": [
    {
     "name": "stdout",
     "output_type": "stream",
     "text": [
      "[[0 1 0 0]\n",
      " [0 0 0 1]\n",
      " [0 0 1 0]\n",
      " [0 0 0 1]]\n"
     ]
    },
    {
     "data": {
      "text/plain": "array([[0, 0, 0, 0],\n       [1, 0, 0, 0],\n       [0, 1, 0, 0],\n       [0, 0, 1, 1]])"
     },
     "execution_count": 16,
     "metadata": {},
     "output_type": "execute_result"
    }
   ],
   "source": [
    "print(c)\n",
    "matrix = mini_hash_3(a)\n",
    "matrix"
   ],
   "metadata": {
    "collapsed": false,
    "ExecuteTime": {
     "start_time": "2023-09-05T03:25:35.777285Z",
     "end_time": "2023-09-05T03:25:35.860403Z"
    }
   }
  },
  {
   "cell_type": "code",
   "execution_count": 17,
   "outputs": [
    {
     "data": {
      "text/plain": "array([[0, 0, 0, 0],\n       [1, 0, 0, 0],\n       [0, 1, 0, 0],\n       [0, 0, 1, 1]])"
     },
     "execution_count": 17,
     "metadata": {},
     "output_type": "execute_result"
    }
   ],
   "source": [
    "matrix = mini_hash_3(mini_hash_3(a))\n",
    "matrix"
   ],
   "metadata": {
    "collapsed": false,
    "ExecuteTime": {
     "start_time": "2023-09-05T03:25:37.386489Z",
     "end_time": "2023-09-05T03:25:37.421085Z"
    }
   }
  },
  {
   "cell_type": "code",
   "execution_count": 10,
   "outputs": [
    {
     "name": "stdout",
     "output_type": "stream",
     "text": [
      "num of matrices: 65536\n",
      "0\n",
      "1000\n",
      "2000\n",
      "3000\n",
      "4000\n",
      "5000\n",
      "6000\n",
      "7000\n",
      "8000\n",
      "9000\n",
      "10000\n",
      "11000\n"
     ]
    },
    {
     "ename": "KeyboardInterrupt",
     "evalue": "",
     "output_type": "error",
     "traceback": [
      "\u001B[1;31m---------------------------------------------------------------------------\u001B[0m",
      "\u001B[1;31mKeyboardInterrupt\u001B[0m                         Traceback (most recent call last)",
      "Cell \u001B[1;32mIn[10], line 1\u001B[0m\n\u001B[1;32m----> 1\u001B[0m \u001B[43mtest_matrix\u001B[49m\u001B[43m(\u001B[49m\u001B[43mhash_adjacency_matrix\u001B[49m\u001B[43m)\u001B[49m\n",
      "File \u001B[1;32m~\\BipartiteGraphHash\\gpu_attempt_test.py:94\u001B[0m, in \u001B[0;36mtest_matrix\u001B[1;34m(hash_matrix)\u001B[0m\n\u001B[0;32m     92\u001B[0m \u001B[38;5;28;01mif\u001B[39;00m count \u001B[38;5;241m%\u001B[39m \u001B[38;5;241m1000\u001B[39m \u001B[38;5;241m==\u001B[39m \u001B[38;5;241m0\u001B[39m:\n\u001B[0;32m     93\u001B[0m     \u001B[38;5;28mprint\u001B[39m(count)\n\u001B[1;32m---> 94\u001B[0m \u001B[43mfast_hash_testing\u001B[49m\u001B[43m(\u001B[49m\u001B[43mmat\u001B[49m\u001B[43m,\u001B[49m\u001B[43m \u001B[49m\u001B[43mhash_matrix\u001B[49m\u001B[43m)\u001B[49m\n\u001B[0;32m     95\u001B[0m count \u001B[38;5;241m+\u001B[39m\u001B[38;5;241m=\u001B[39m \u001B[38;5;241m1\u001B[39m\n",
      "File \u001B[1;32m~\\BipartiteGraphHash\\gpu_attempt_test.py:61\u001B[0m, in \u001B[0;36mfast_hash_testing\u001B[1;34m(matrix, hash_matrix)\u001B[0m\n\u001B[0;32m     58\u001B[0m sorted_edges_matrix \u001B[38;5;241m=\u001B[39m hash_matrix(matrix)\n\u001B[0;32m     59\u001B[0m sorted_edges_matrix \u001B[38;5;241m=\u001B[39m \u001B[38;5;28mstr\u001B[39m(np\u001B[38;5;241m.\u001B[39marray(sorted_edges_matrix)\u001B[38;5;241m.\u001B[39mflatten())\n\u001B[1;32m---> 61\u001B[0m sorted_edges_m1 \u001B[38;5;241m=\u001B[39m \u001B[43mhash_matrix\u001B[49m\u001B[43m(\u001B[49m\u001B[43mm1\u001B[49m\u001B[43m)\u001B[49m\n\u001B[0;32m     62\u001B[0m sorted_edges_m1 \u001B[38;5;241m=\u001B[39m \u001B[38;5;28mstr\u001B[39m(np\u001B[38;5;241m.\u001B[39marray(sorted_edges_m1)\u001B[38;5;241m.\u001B[39mflatten())\n\u001B[0;32m     64\u001B[0m sorted_edges_m2 \u001B[38;5;241m=\u001B[39m hash_matrix(m2)\n",
      "File \u001B[1;32m~\\BipartiteGraphHash\\hash.py:9\u001B[0m, in \u001B[0;36mhash_adjacency_matrix\u001B[1;34m(matrix)\u001B[0m\n\u001B[0;32m      8\u001B[0m \u001B[38;5;28;01mdef\u001B[39;00m \u001B[38;5;21mhash_adjacency_matrix\u001B[39m(matrix):\n\u001B[1;32m----> 9\u001B[0m     matrix \u001B[38;5;241m=\u001B[39m hash_adjacency_matrix_helper(\u001B[43mhash_adjacency_matrix_helper\u001B[49m\u001B[43m(\u001B[49m\u001B[43mmatrix\u001B[49m\u001B[38;5;241;43m.\u001B[39;49m\u001B[43mT\u001B[49m\u001B[43m)\u001B[49m\u001B[38;5;241m.\u001B[39mT)\n\u001B[0;32m     10\u001B[0m     matrix \u001B[38;5;241m=\u001B[39m sort_adjacency_matrix_by_scores_and_decimal(matrix\u001B[38;5;241m.\u001B[39mT)\u001B[38;5;241m.\u001B[39mT\n\u001B[0;32m     11\u001B[0m     matrix \u001B[38;5;241m=\u001B[39m sort_adjacency_matrix_by_scores_and_decimal(matrix)\n",
      "File \u001B[1;32m~\\BipartiteGraphHash\\hash.py:21\u001B[0m, in \u001B[0;36mhash_adjacency_matrix_helper\u001B[1;34m(matrix)\u001B[0m\n\u001B[0;32m     18\u001B[0m \u001B[38;5;66;03m#stacked_matrices = np.stack([r_collisions, r_diag], axis=2)\u001B[39;00m\n\u001B[0;32m     19\u001B[0m stacked_matrices \u001B[38;5;241m=\u001B[39m np\u001B[38;5;241m.\u001B[39mstack([r_diag, r_collisions], axis\u001B[38;5;241m=\u001B[39m\u001B[38;5;241m2\u001B[39m)\n\u001B[1;32m---> 21\u001B[0m stacked_matrices \u001B[38;5;241m=\u001B[39m \u001B[43mnp\u001B[49m\u001B[38;5;241;43m.\u001B[39;49m\u001B[43msort\u001B[49m\u001B[43m(\u001B[49m\u001B[43mstacked_matrices\u001B[49m\u001B[43m,\u001B[49m\u001B[43m \u001B[49m\u001B[43maxis\u001B[49m\u001B[38;5;241;43m=\u001B[39;49m\u001B[38;5;241;43m1\u001B[39;49m\u001B[43m)\u001B[49m\n\u001B[0;32m     23\u001B[0m matrix \u001B[38;5;241m=\u001B[39m np\u001B[38;5;241m.\u001B[39marray([x \u001B[38;5;28;01mfor\u001B[39;00m _, _, x \u001B[38;5;129;01min\u001B[39;00m \u001B[38;5;28msorted\u001B[39m(\n\u001B[0;32m     24\u001B[0m     \u001B[38;5;28mzip\u001B[39m(stacked_matrices[:, :, \u001B[38;5;241m0\u001B[39m]\u001B[38;5;241m.\u001B[39mtolist(), stacked_matrices[:, :, \u001B[38;5;241m1\u001B[39m]\u001B[38;5;241m.\u001B[39mtolist(), matrix\u001B[38;5;241m.\u001B[39mtolist()))])\n\u001B[0;32m     26\u001B[0m \u001B[38;5;28;01mreturn\u001B[39;00m matrix\n",
      "File \u001B[1;32m<__array_function__ internals>:200\u001B[0m, in \u001B[0;36msort\u001B[1;34m(*args, **kwargs)\u001B[0m\n",
      "File \u001B[1;32m~\\anaconda3\\envs\\ContinuousTimeRL\\lib\\site-packages\\numpy\\core\\fromnumeric.py:1030\u001B[0m, in \u001B[0;36msort\u001B[1;34m(a, axis, kind, order)\u001B[0m\n\u001B[0;32m   1028\u001B[0m \u001B[38;5;28;01melse\u001B[39;00m:\n\u001B[0;32m   1029\u001B[0m     a \u001B[38;5;241m=\u001B[39m asanyarray(a)\u001B[38;5;241m.\u001B[39mcopy(order\u001B[38;5;241m=\u001B[39m\u001B[38;5;124m\"\u001B[39m\u001B[38;5;124mK\u001B[39m\u001B[38;5;124m\"\u001B[39m)\n\u001B[1;32m-> 1030\u001B[0m \u001B[43ma\u001B[49m\u001B[38;5;241;43m.\u001B[39;49m\u001B[43msort\u001B[49m\u001B[43m(\u001B[49m\u001B[43maxis\u001B[49m\u001B[38;5;241;43m=\u001B[39;49m\u001B[43maxis\u001B[49m\u001B[43m,\u001B[49m\u001B[43m \u001B[49m\u001B[43mkind\u001B[49m\u001B[38;5;241;43m=\u001B[39;49m\u001B[43mkind\u001B[49m\u001B[43m,\u001B[49m\u001B[43m \u001B[49m\u001B[43morder\u001B[49m\u001B[38;5;241;43m=\u001B[39;49m\u001B[43morder\u001B[49m\u001B[43m)\u001B[49m\n\u001B[0;32m   1031\u001B[0m \u001B[38;5;28;01mreturn\u001B[39;00m a\n",
      "\u001B[1;31mKeyboardInterrupt\u001B[0m: "
     ]
    }
   ],
   "source": [
    "test_matrix(hash_adjacency_matrix)"
   ],
   "metadata": {
    "collapsed": false
   }
  },
  {
   "cell_type": "code",
   "execution_count": 33,
   "outputs": [
    {
     "name": "stdout",
     "output_type": "stream",
     "text": [
      "num of matrices: 65536\n",
      "0\n",
      "[[0 0 0 0]\n",
      " [0 0 0 0]\n",
      " [1 0 1 0]\n",
      " [0 1 1 1]]\n",
      "[[0 0 0 0]\n",
      " [0 0 0 0]\n",
      " [0 0 1 1]\n",
      " [1 1 1 0]]\n"
     ]
    },
    {
     "ename": "AssertionError",
     "evalue": "",
     "output_type": "error",
     "traceback": [
      "\u001B[1;31m---------------------------------------------------------------------------\u001B[0m",
      "\u001B[1;31mAssertionError\u001B[0m                            Traceback (most recent call last)",
      "Cell \u001B[1;32mIn[33], line 1\u001B[0m\n\u001B[1;32m----> 1\u001B[0m \u001B[43mtest_matrix\u001B[49m\u001B[43m(\u001B[49m\u001B[43mmini_hash_2_1\u001B[49m\u001B[43m)\u001B[49m\n",
      "File \u001B[1;32m~\\BipartiteGraphHash\\gpu_attempt_test.py:94\u001B[0m, in \u001B[0;36mtest_matrix\u001B[1;34m(hash_matrix)\u001B[0m\n\u001B[0;32m     92\u001B[0m \u001B[38;5;28;01mif\u001B[39;00m count \u001B[38;5;241m%\u001B[39m \u001B[38;5;241m1000\u001B[39m \u001B[38;5;241m==\u001B[39m \u001B[38;5;241m0\u001B[39m:\n\u001B[0;32m     93\u001B[0m     \u001B[38;5;28mprint\u001B[39m(count)\n\u001B[1;32m---> 94\u001B[0m \u001B[43mfast_hash_testing\u001B[49m\u001B[43m(\u001B[49m\u001B[43mmat\u001B[49m\u001B[43m,\u001B[49m\u001B[43m \u001B[49m\u001B[43mhash_matrix\u001B[49m\u001B[43m)\u001B[49m\n\u001B[0;32m     95\u001B[0m count \u001B[38;5;241m+\u001B[39m\u001B[38;5;241m=\u001B[39m \u001B[38;5;241m1\u001B[39m\n",
      "File \u001B[1;32m~\\BipartiteGraphHash\\gpu_attempt_test.py:79\u001B[0m, in \u001B[0;36mfast_hash_testing\u001B[1;34m(matrix, hash_matrix)\u001B[0m\n\u001B[0;32m     77\u001B[0m         \u001B[38;5;28mprint\u001B[39m(format_array(i)\u001B[38;5;241m.\u001B[39mreshape((matrix\u001B[38;5;241m.\u001B[39mshape[\u001B[38;5;241m0\u001B[39m], matrix\u001B[38;5;241m.\u001B[39mshape[\u001B[38;5;241m1\u001B[39m])))\n\u001B[0;32m     78\u001B[0m     \u001B[38;5;66;03m# print(hash_dict)\u001B[39;00m\n\u001B[1;32m---> 79\u001B[0m \u001B[38;5;28;01massert\u001B[39;00m \u001B[38;5;28mlen\u001B[39m(hash_dict) \u001B[38;5;241m==\u001B[39m \u001B[38;5;241m1\u001B[39m\n",
      "\u001B[1;31mAssertionError\u001B[0m: "
     ]
    }
   ],
   "source": [
    "test_matrix(mini_hash_2_1)"
   ],
   "metadata": {
    "collapsed": false,
    "ExecuteTime": {
     "start_time": "2023-09-05T03:25:38.226489Z",
     "end_time": "2023-09-05T03:25:38.244494Z"
    }
   }
  },
  {
   "cell_type": "code",
   "execution_count": 19,
   "outputs": [
    {
     "name": "stdout",
     "output_type": "stream",
     "text": [
      "num of matrices: 65536\n",
      "0\n",
      "[[0 0 0 0]\n",
      " [0 0 0 0]\n",
      " [1 0 1 0]\n",
      " [0 1 1 1]]\n",
      "[[0 0 0 0]\n",
      " [0 0 0 0]\n",
      " [0 0 1 1]\n",
      " [1 1 1 0]]\n"
     ]
    },
    {
     "ename": "AssertionError",
     "evalue": "",
     "output_type": "error",
     "traceback": [
      "\u001B[1;31m---------------------------------------------------------------------------\u001B[0m",
      "\u001B[1;31mAssertionError\u001B[0m                            Traceback (most recent call last)",
      "Cell \u001B[1;32mIn[19], line 1\u001B[0m\n\u001B[1;32m----> 1\u001B[0m \u001B[43mtest_matrix\u001B[49m\u001B[43m(\u001B[49m\u001B[43mmini_hash_2_2\u001B[49m\u001B[43m)\u001B[49m\n",
      "File \u001B[1;32m~\\BipartiteGraphHash\\gpu_attempt_test.py:94\u001B[0m, in \u001B[0;36mtest_matrix\u001B[1;34m(hash_matrix)\u001B[0m\n\u001B[0;32m     92\u001B[0m \u001B[38;5;28;01mif\u001B[39;00m count \u001B[38;5;241m%\u001B[39m \u001B[38;5;241m1000\u001B[39m \u001B[38;5;241m==\u001B[39m \u001B[38;5;241m0\u001B[39m:\n\u001B[0;32m     93\u001B[0m     \u001B[38;5;28mprint\u001B[39m(count)\n\u001B[1;32m---> 94\u001B[0m \u001B[43mfast_hash_testing\u001B[49m\u001B[43m(\u001B[49m\u001B[43mmat\u001B[49m\u001B[43m,\u001B[49m\u001B[43m \u001B[49m\u001B[43mhash_matrix\u001B[49m\u001B[43m)\u001B[49m\n\u001B[0;32m     95\u001B[0m count \u001B[38;5;241m+\u001B[39m\u001B[38;5;241m=\u001B[39m \u001B[38;5;241m1\u001B[39m\n",
      "File \u001B[1;32m~\\BipartiteGraphHash\\gpu_attempt_test.py:79\u001B[0m, in \u001B[0;36mfast_hash_testing\u001B[1;34m(matrix, hash_matrix)\u001B[0m\n\u001B[0;32m     77\u001B[0m         \u001B[38;5;28mprint\u001B[39m(format_array(i)\u001B[38;5;241m.\u001B[39mreshape((matrix\u001B[38;5;241m.\u001B[39mshape[\u001B[38;5;241m0\u001B[39m], matrix\u001B[38;5;241m.\u001B[39mshape[\u001B[38;5;241m1\u001B[39m])))\n\u001B[0;32m     78\u001B[0m     \u001B[38;5;66;03m# print(hash_dict)\u001B[39;00m\n\u001B[1;32m---> 79\u001B[0m \u001B[38;5;28;01massert\u001B[39;00m \u001B[38;5;28mlen\u001B[39m(hash_dict) \u001B[38;5;241m==\u001B[39m \u001B[38;5;241m1\u001B[39m\n",
      "\u001B[1;31mAssertionError\u001B[0m: "
     ]
    }
   ],
   "source": [
    "test_matrix(mini_hash_2_2)"
   ],
   "metadata": {
    "collapsed": false
   }
  },
  {
   "cell_type": "code",
   "execution_count": 29,
   "outputs": [
    {
     "name": "stdout",
     "output_type": "stream",
     "text": [
      "num of matrices: 65536\n",
      "0\n"
     ]
    },
    {
     "ename": "IndexError",
     "evalue": "index 4 is out of bounds for axis 0 with size 1",
     "output_type": "error",
     "traceback": [
      "\u001B[1;31m---------------------------------------------------------------------------\u001B[0m",
      "\u001B[1;31mIndexError\u001B[0m                                Traceback (most recent call last)",
      "Cell \u001B[1;32mIn[29], line 1\u001B[0m\n\u001B[1;32m----> 1\u001B[0m \u001B[43mtest_matrix\u001B[49m\u001B[43m(\u001B[49m\u001B[43mfull_hash_1\u001B[49m\u001B[43m)\u001B[49m\n",
      "File \u001B[1;32m~\\BipartiteGraphHash\\gpu_attempt_test.py:94\u001B[0m, in \u001B[0;36mtest_matrix\u001B[1;34m(hash_matrix)\u001B[0m\n\u001B[0;32m     92\u001B[0m \u001B[38;5;28;01mif\u001B[39;00m count \u001B[38;5;241m%\u001B[39m \u001B[38;5;241m1000\u001B[39m \u001B[38;5;241m==\u001B[39m \u001B[38;5;241m0\u001B[39m:\n\u001B[0;32m     93\u001B[0m     \u001B[38;5;28mprint\u001B[39m(count)\n\u001B[1;32m---> 94\u001B[0m \u001B[43mfast_hash_testing\u001B[49m\u001B[43m(\u001B[49m\u001B[43mmat\u001B[49m\u001B[43m,\u001B[49m\u001B[43m \u001B[49m\u001B[43mhash_matrix\u001B[49m\u001B[43m)\u001B[49m\n\u001B[0;32m     95\u001B[0m count \u001B[38;5;241m+\u001B[39m\u001B[38;5;241m=\u001B[39m \u001B[38;5;241m1\u001B[39m\n",
      "File \u001B[1;32m~\\BipartiteGraphHash\\gpu_attempt_test.py:58\u001B[0m, in \u001B[0;36mfast_hash_testing\u001B[1;34m(matrix, hash_matrix)\u001B[0m\n\u001B[0;32m     55\u001B[0m m2 \u001B[38;5;241m=\u001B[39m np\u001B[38;5;241m.\u001B[39mflipud(m1)\n\u001B[0;32m     56\u001B[0m m3 \u001B[38;5;241m=\u001B[39m np\u001B[38;5;241m.\u001B[39mflipud(matrix)\n\u001B[1;32m---> 58\u001B[0m sorted_edges_matrix \u001B[38;5;241m=\u001B[39m \u001B[43mhash_matrix\u001B[49m\u001B[43m(\u001B[49m\u001B[43mmatrix\u001B[49m\u001B[43m)\u001B[49m\n\u001B[0;32m     59\u001B[0m sorted_edges_matrix \u001B[38;5;241m=\u001B[39m \u001B[38;5;28mstr\u001B[39m(np\u001B[38;5;241m.\u001B[39marray(sorted_edges_matrix)\u001B[38;5;241m.\u001B[39mflatten())\n\u001B[0;32m     61\u001B[0m sorted_edges_m1 \u001B[38;5;241m=\u001B[39m hash_matrix(m1)\n",
      "Cell \u001B[1;32mIn[5], line 3\u001B[0m, in \u001B[0;36mfull_hash_1\u001B[1;34m(matrix)\u001B[0m\n\u001B[0;32m      2\u001B[0m \u001B[38;5;28;01mdef\u001B[39;00m \u001B[38;5;21mfull_hash_1\u001B[39m(matrix):\n\u001B[1;32m----> 3\u001B[0m     matrix, row_diags, row_order_1 \u001B[38;5;241m=\u001B[39m \u001B[43mmatrix_row_collisions_split_then_sorted_1\u001B[49m\u001B[43m(\u001B[49m\u001B[43mmatrix\u001B[49m\u001B[43m)\u001B[49m\n\u001B[0;32m      4\u001B[0m     \u001B[38;5;28mprint\u001B[39m(\u001B[38;5;124m\"\u001B[39m\u001B[38;5;124mmatrix after rows sorted by diagonals\u001B[39m\u001B[38;5;124m\"\u001B[39m)\n\u001B[0;32m      5\u001B[0m     \u001B[38;5;28mprint\u001B[39m(matrix)\n",
      "Cell \u001B[1;32mIn[6], line 10\u001B[0m, in \u001B[0;36mmatrix_row_collisions_split_then_sorted_1\u001B[1;34m(matrix)\u001B[0m\n\u001B[0;32m      8\u001B[0m row_collisions \u001B[38;5;241m=\u001B[39m sort_chunked_row_collisions(row_collisions)\n\u001B[0;32m      9\u001B[0m \u001B[38;5;66;03m#row_collision_order = custom_row_order(np.fliplr(row_collisions)).reshape(-1,1)\u001B[39;00m\n\u001B[1;32m---> 10\u001B[0m row_collision_order \u001B[38;5;241m=\u001B[39m \u001B[43morder_of_rows\u001B[49m\u001B[43m(\u001B[49m\u001B[43mrow_collisions\u001B[49m\u001B[43m)\u001B[49m\u001B[38;5;241m.\u001B[39mreshape(\u001B[38;5;241m-\u001B[39m\u001B[38;5;241m1\u001B[39m,\u001B[38;5;241m1\u001B[39m) \u001B[38;5;66;03m#since this gets sorted, this should be fine to order???\u001B[39;00m\n\u001B[0;32m     12\u001B[0m \u001B[38;5;28;01mreturn\u001B[39;00m matrix, diags\u001B[38;5;241m.\u001B[39mreshape(\u001B[38;5;241m-\u001B[39m\u001B[38;5;241m1\u001B[39m,\u001B[38;5;241m1\u001B[39m), row_collision_order\n",
      "File \u001B[1;32m~\\BipartiteGraphHash\\sorted_row_collisions.py:102\u001B[0m, in \u001B[0;36morder_of_rows\u001B[1;34m(matrix)\u001B[0m\n\u001B[0;32m     99\u001B[0m unique_row_counts \u001B[38;5;241m=\u001B[39m np\u001B[38;5;241m.\u001B[39mbincount(counts)\n\u001B[0;32m    100\u001B[0m unique_row_indices \u001B[38;5;241m=\u001B[39m np\u001B[38;5;241m.\u001B[39mrepeat(np\u001B[38;5;241m.\u001B[39marange(\u001B[38;5;28mlen\u001B[39m(unique_row_counts)), unique_row_counts)\n\u001B[1;32m--> 102\u001B[0m final_result \u001B[38;5;241m=\u001B[39m \u001B[43munique_row_indices\u001B[49m\u001B[43m[\u001B[49m\u001B[43mnp\u001B[49m\u001B[38;5;241;43m.\u001B[39;49m\u001B[43msearchsorted\u001B[49m\u001B[43m(\u001B[49m\u001B[43munique_row_counts\u001B[49m\u001B[38;5;241;43m.\u001B[39;49m\u001B[43mcumsum\u001B[49m\u001B[43m(\u001B[49m\u001B[43m)\u001B[49m\u001B[43m,\u001B[49m\u001B[43m \u001B[49m\u001B[43msorted_indices\u001B[49m\u001B[43m,\u001B[49m\u001B[43m \u001B[49m\u001B[43mside\u001B[49m\u001B[38;5;241;43m=\u001B[39;49m\u001B[38;5;124;43m'\u001B[39;49m\u001B[38;5;124;43mright\u001B[39;49m\u001B[38;5;124;43m'\u001B[39;49m\u001B[43m)\u001B[49m\u001B[43m]\u001B[49m\n\u001B[0;32m    104\u001B[0m \u001B[38;5;28;01mreturn\u001B[39;00m final_result\n",
      "\u001B[1;31mIndexError\u001B[0m: index 4 is out of bounds for axis 0 with size 1"
     ]
    }
   ],
   "source": [
    "test_matrix(full_hash_1)"
   ],
   "metadata": {
    "collapsed": false
   }
  },
  {
   "cell_type": "code",
   "execution_count": 28,
   "outputs": [
    {
     "name": "stdout",
     "output_type": "stream",
     "text": [
      "num of matrices: 65536\n",
      "0\n",
      "[[0 0 0 0]\n",
      " [0 0 0 0]\n",
      " [1 0 1 0]\n",
      " [0 1 1 1]]\n",
      "[[0 0 0 0]\n",
      " [0 0 0 0]\n",
      " [0 0 1 1]\n",
      " [1 1 1 0]]\n"
     ]
    },
    {
     "ename": "AssertionError",
     "evalue": "",
     "output_type": "error",
     "traceback": [
      "\u001B[1;31m---------------------------------------------------------------------------\u001B[0m",
      "\u001B[1;31mAssertionError\u001B[0m                            Traceback (most recent call last)",
      "Cell \u001B[1;32mIn[28], line 1\u001B[0m\n\u001B[1;32m----> 1\u001B[0m \u001B[43mtest_matrix\u001B[49m\u001B[43m(\u001B[49m\u001B[43mmini_hash_2\u001B[49m\u001B[43m)\u001B[49m\n",
      "File \u001B[1;32m~\\BipartiteGraphHash\\gpu_attempt_test.py:94\u001B[0m, in \u001B[0;36mtest_matrix\u001B[1;34m(hash_matrix)\u001B[0m\n\u001B[0;32m     92\u001B[0m \u001B[38;5;28;01mif\u001B[39;00m count \u001B[38;5;241m%\u001B[39m \u001B[38;5;241m1000\u001B[39m \u001B[38;5;241m==\u001B[39m \u001B[38;5;241m0\u001B[39m:\n\u001B[0;32m     93\u001B[0m     \u001B[38;5;28mprint\u001B[39m(count)\n\u001B[1;32m---> 94\u001B[0m \u001B[43mfast_hash_testing\u001B[49m\u001B[43m(\u001B[49m\u001B[43mmat\u001B[49m\u001B[43m,\u001B[49m\u001B[43m \u001B[49m\u001B[43mhash_matrix\u001B[49m\u001B[43m)\u001B[49m\n\u001B[0;32m     95\u001B[0m count \u001B[38;5;241m+\u001B[39m\u001B[38;5;241m=\u001B[39m \u001B[38;5;241m1\u001B[39m\n",
      "File \u001B[1;32m~\\BipartiteGraphHash\\gpu_attempt_test.py:79\u001B[0m, in \u001B[0;36mfast_hash_testing\u001B[1;34m(matrix, hash_matrix)\u001B[0m\n\u001B[0;32m     77\u001B[0m         \u001B[38;5;28mprint\u001B[39m(format_array(i)\u001B[38;5;241m.\u001B[39mreshape((matrix\u001B[38;5;241m.\u001B[39mshape[\u001B[38;5;241m0\u001B[39m], matrix\u001B[38;5;241m.\u001B[39mshape[\u001B[38;5;241m1\u001B[39m])))\n\u001B[0;32m     78\u001B[0m     \u001B[38;5;66;03m# print(hash_dict)\u001B[39;00m\n\u001B[1;32m---> 79\u001B[0m \u001B[38;5;28;01massert\u001B[39;00m \u001B[38;5;28mlen\u001B[39m(hash_dict) \u001B[38;5;241m==\u001B[39m \u001B[38;5;241m1\u001B[39m\n",
      "\u001B[1;31mAssertionError\u001B[0m: "
     ]
    }
   ],
   "source": [
    "test_matrix(mini_hash_2)"
   ],
   "metadata": {
    "collapsed": false
   }
  },
  {
   "cell_type": "code",
   "execution_count": 29,
   "outputs": [
    {
     "name": "stdout",
     "output_type": "stream",
     "text": [
      "num of matrices: 65536\n",
      "0\n",
      "1000\n"
     ]
    },
    {
     "ename": "KeyboardInterrupt",
     "evalue": "",
     "output_type": "error",
     "traceback": [
      "\u001B[1;31m---------------------------------------------------------------------------\u001B[0m",
      "\u001B[1;31mKeyboardInterrupt\u001B[0m                         Traceback (most recent call last)",
      "Cell \u001B[1;32mIn[29], line 1\u001B[0m\n\u001B[1;32m----> 1\u001B[0m \u001B[43mtest_matrix\u001B[49m\u001B[43m(\u001B[49m\u001B[43mmini_hash_3\u001B[49m\u001B[43m)\u001B[49m\n",
      "File \u001B[1;32m~\\BipartiteGraphHash\\gpu_attempt_test.py:94\u001B[0m, in \u001B[0;36mtest_matrix\u001B[1;34m(hash_matrix)\u001B[0m\n\u001B[0;32m     92\u001B[0m \u001B[38;5;28;01mif\u001B[39;00m count \u001B[38;5;241m%\u001B[39m \u001B[38;5;241m1000\u001B[39m \u001B[38;5;241m==\u001B[39m \u001B[38;5;241m0\u001B[39m:\n\u001B[0;32m     93\u001B[0m     \u001B[38;5;28mprint\u001B[39m(count)\n\u001B[1;32m---> 94\u001B[0m \u001B[43mfast_hash_testing\u001B[49m\u001B[43m(\u001B[49m\u001B[43mmat\u001B[49m\u001B[43m,\u001B[49m\u001B[43m \u001B[49m\u001B[43mhash_matrix\u001B[49m\u001B[43m)\u001B[49m\n\u001B[0;32m     95\u001B[0m count \u001B[38;5;241m+\u001B[39m\u001B[38;5;241m=\u001B[39m \u001B[38;5;241m1\u001B[39m\n",
      "File \u001B[1;32m~\\BipartiteGraphHash\\gpu_attempt_test.py:61\u001B[0m, in \u001B[0;36mfast_hash_testing\u001B[1;34m(matrix, hash_matrix)\u001B[0m\n\u001B[0;32m     58\u001B[0m sorted_edges_matrix \u001B[38;5;241m=\u001B[39m hash_matrix(matrix)\n\u001B[0;32m     59\u001B[0m sorted_edges_matrix \u001B[38;5;241m=\u001B[39m \u001B[38;5;28mstr\u001B[39m(np\u001B[38;5;241m.\u001B[39marray(sorted_edges_matrix)\u001B[38;5;241m.\u001B[39mflatten())\n\u001B[1;32m---> 61\u001B[0m sorted_edges_m1 \u001B[38;5;241m=\u001B[39m \u001B[43mhash_matrix\u001B[49m\u001B[43m(\u001B[49m\u001B[43mm1\u001B[49m\u001B[43m)\u001B[49m\n\u001B[0;32m     62\u001B[0m sorted_edges_m1 \u001B[38;5;241m=\u001B[39m \u001B[38;5;28mstr\u001B[39m(np\u001B[38;5;241m.\u001B[39marray(sorted_edges_m1)\u001B[38;5;241m.\u001B[39mflatten())\n\u001B[0;32m     64\u001B[0m sorted_edges_m2 \u001B[38;5;241m=\u001B[39m hash_matrix(m2)\n",
      "Cell \u001B[1;32mIn[22], line 5\u001B[0m, in \u001B[0;36mmini_hash_3\u001B[1;34m(matrix)\u001B[0m\n\u001B[0;32m      2\u001B[0m matrix, row_collisions, col_collisions \u001B[38;5;241m=\u001B[39m matrix_row_and_col_collisions(matrix)\n\u001B[0;32m      4\u001B[0m \u001B[38;5;66;03m#start row sorts\u001B[39;00m\n\u001B[1;32m----> 5\u001B[0m chunked_row_order \u001B[38;5;241m=\u001B[39m np\u001B[38;5;241m.\u001B[39margsort(\u001B[43mget_order_of_chunked_row_collisions\u001B[49m\u001B[43m(\u001B[49m\u001B[43mrow_collisions\u001B[49m\u001B[43m)\u001B[49m)\n\u001B[0;32m      6\u001B[0m chunked_col_order \u001B[38;5;241m=\u001B[39m np\u001B[38;5;241m.\u001B[39margsort(get_order_of_chunked_row_collisions(col_collisions))\n\u001B[0;32m      7\u001B[0m matrix \u001B[38;5;241m=\u001B[39m matrix[chunked_row_order][:, chunked_col_order]\n",
      "Cell \u001B[1;32mIn[8], line 2\u001B[0m, in \u001B[0;36mget_order_of_chunked_row_collisions\u001B[1;34m(collision_matrix)\u001B[0m\n\u001B[0;32m      1\u001B[0m \u001B[38;5;28;01mdef\u001B[39;00m \u001B[38;5;21mget_order_of_chunked_row_collisions\u001B[39m(collision_matrix):\n\u001B[1;32m----> 2\u001B[0m     chunked_row_collisions \u001B[38;5;241m=\u001B[39m \u001B[43msort_chunked_row_collisions\u001B[49m\u001B[43m(\u001B[49m\u001B[43mcollision_matrix\u001B[49m\u001B[43m)\u001B[49m\n\u001B[0;32m      3\u001B[0m     chunked_row_order \u001B[38;5;241m=\u001B[39m new_order_of_rows(chunked_row_collisions)\u001B[38;5;66;03m#.reshape(-1,1) #this is still wrong...\u001B[39;00m\n\u001B[0;32m      4\u001B[0m     \u001B[38;5;66;03m#print(f\"chunked collisions:\")\u001B[39;00m\n\u001B[0;32m      5\u001B[0m     \u001B[38;5;66;03m#print(chunked_row_collisions)\u001B[39;00m\n",
      "File \u001B[1;32m~\\BipartiteGraphHash\\sorted_row_collisions.py:39\u001B[0m, in \u001B[0;36msort_chunked_row_collisions\u001B[1;34m(r_collisions)\u001B[0m\n\u001B[0;32m     37\u001B[0m \u001B[38;5;28;01mdef\u001B[39;00m \u001B[38;5;21msort_chunked_row_collisions\u001B[39m(r_collisions):\n\u001B[0;32m     38\u001B[0m     diags \u001B[38;5;241m=\u001B[39m unique_diags_list(r_collisions)\n\u001B[1;32m---> 39\u001B[0m     r_collisions \u001B[38;5;241m=\u001B[39m \u001B[43msplit_r_collisions\u001B[49m\u001B[43m(\u001B[49m\u001B[43mr_collisions\u001B[49m\u001B[43m,\u001B[49m\u001B[43m \u001B[49m\u001B[43mdiags\u001B[49m\u001B[43m)\u001B[49m\n\u001B[0;32m     41\u001B[0m     \u001B[38;5;28;01mreturn\u001B[39;00m r_collisions\n",
      "File \u001B[1;32m~\\BipartiteGraphHash\\sorted_row_collisions.py:70\u001B[0m, in \u001B[0;36msplit_r_collisions\u001B[1;34m(r_collisions, diags)\u001B[0m\n\u001B[0;32m     68\u001B[0m         split_collisions \u001B[38;5;241m=\u001B[39m r_collisions[r_start:r_end, c_start:c_end]\n\u001B[0;32m     69\u001B[0m         sorted_split_collisions \u001B[38;5;241m=\u001B[39m np\u001B[38;5;241m.\u001B[39msort(split_collisions)\n\u001B[1;32m---> 70\u001B[0m         r_collisions[r_start:r_end, c_start:c_end] \u001B[38;5;241m=\u001B[39m sorted_split_collisions\n\u001B[0;32m     71\u001B[0m         \u001B[38;5;66;03m# np.sort(r_collisions[r_start:r_end, c_start:c_end])\u001B[39;00m\n\u001B[0;32m     72\u001B[0m         \u001B[38;5;66;03m# if i <= j:\u001B[39;00m\n\u001B[0;32m     73\u001B[0m         \u001B[38;5;66;03m#    r_collisions[r_start:r_end, c_start:c_end] = np.sort(r_collisions[r_start:r_end, c_start:c_end])\u001B[39;00m\n\u001B[0;32m     74\u001B[0m         \u001B[38;5;66;03m# else:\u001B[39;00m\n\u001B[0;32m     75\u001B[0m         \u001B[38;5;66;03m#    r_collisions[r_start:r_end, c_start:c_end] = np.zeros((r_end-r_start, c_end-c_start))\u001B[39;00m\n\u001B[0;32m     76\u001B[0m         \u001B[38;5;66;03m#    #np.sort(r_collisions[r_start:r_end, c_start:c_end], axis=1)\u001B[39;00m\n\u001B[0;32m     78\u001B[0m \u001B[38;5;28;01mreturn\u001B[39;00m r_collisions\n",
      "\u001B[1;31mKeyboardInterrupt\u001B[0m: "
     ]
    }
   ],
   "source": [
    "test_matrix(mini_hash_3)"
   ],
   "metadata": {
    "collapsed": false
   }
  },
  {
   "cell_type": "code",
   "execution_count": 28,
   "outputs": [
    {
     "name": "stdout",
     "output_type": "stream",
     "text": [
      "num of matrices: 65536\n",
      "0\n",
      "1000\n",
      "2000\n",
      "3000\n",
      "4000\n",
      "5000\n",
      "6000\n",
      "7000\n",
      "8000\n",
      "9000\n",
      "10000\n",
      "11000\n",
      "12000\n",
      "13000\n",
      "14000\n",
      "15000\n",
      "16000\n"
     ]
    },
    {
     "ename": "KeyboardInterrupt",
     "evalue": "",
     "output_type": "error",
     "traceback": [
      "\u001B[1;31m---------------------------------------------------------------------------\u001B[0m",
      "\u001B[1;31mKeyboardInterrupt\u001B[0m                         Traceback (most recent call last)",
      "Cell \u001B[1;32mIn[28], line 1\u001B[0m\n\u001B[1;32m----> 1\u001B[0m \u001B[43mtest_matrix\u001B[49m\u001B[43m(\u001B[49m\u001B[43mhash_adjacency_matrix\u001B[49m\u001B[43m)\u001B[49m\n",
      "File \u001B[1;32m~\\BipartiteGraphHash\\gpu_attempt_test.py:94\u001B[0m, in \u001B[0;36mtest_matrix\u001B[1;34m(hash_matrix)\u001B[0m\n\u001B[0;32m     92\u001B[0m \u001B[38;5;28;01mif\u001B[39;00m count \u001B[38;5;241m%\u001B[39m \u001B[38;5;241m1000\u001B[39m \u001B[38;5;241m==\u001B[39m \u001B[38;5;241m0\u001B[39m:\n\u001B[0;32m     93\u001B[0m     \u001B[38;5;28mprint\u001B[39m(count)\n\u001B[1;32m---> 94\u001B[0m \u001B[43mfast_hash_testing\u001B[49m\u001B[43m(\u001B[49m\u001B[43mmat\u001B[49m\u001B[43m,\u001B[49m\u001B[43m \u001B[49m\u001B[43mhash_matrix\u001B[49m\u001B[43m)\u001B[49m\n\u001B[0;32m     95\u001B[0m count \u001B[38;5;241m+\u001B[39m\u001B[38;5;241m=\u001B[39m \u001B[38;5;241m1\u001B[39m\n",
      "File \u001B[1;32m~\\BipartiteGraphHash\\gpu_attempt_test.py:58\u001B[0m, in \u001B[0;36mfast_hash_testing\u001B[1;34m(matrix, hash_matrix)\u001B[0m\n\u001B[0;32m     55\u001B[0m m2 \u001B[38;5;241m=\u001B[39m np\u001B[38;5;241m.\u001B[39mflipud(m1)\n\u001B[0;32m     56\u001B[0m m3 \u001B[38;5;241m=\u001B[39m np\u001B[38;5;241m.\u001B[39mflipud(matrix)\n\u001B[1;32m---> 58\u001B[0m sorted_edges_matrix \u001B[38;5;241m=\u001B[39m \u001B[43mhash_matrix\u001B[49m\u001B[43m(\u001B[49m\u001B[43mmatrix\u001B[49m\u001B[43m)\u001B[49m\n\u001B[0;32m     59\u001B[0m sorted_edges_matrix \u001B[38;5;241m=\u001B[39m \u001B[38;5;28mstr\u001B[39m(np\u001B[38;5;241m.\u001B[39marray(sorted_edges_matrix)\u001B[38;5;241m.\u001B[39mflatten())\n\u001B[0;32m     61\u001B[0m sorted_edges_m1 \u001B[38;5;241m=\u001B[39m hash_matrix(m1)\n",
      "File \u001B[1;32m~\\BipartiteGraphHash\\hash.py:10\u001B[0m, in \u001B[0;36mhash_adjacency_matrix\u001B[1;34m(matrix)\u001B[0m\n\u001B[0;32m      8\u001B[0m \u001B[38;5;28;01mdef\u001B[39;00m \u001B[38;5;21mhash_adjacency_matrix\u001B[39m(matrix):\n\u001B[0;32m      9\u001B[0m     matrix \u001B[38;5;241m=\u001B[39m hash_adjacency_matrix_helper(hash_adjacency_matrix_helper(matrix\u001B[38;5;241m.\u001B[39mT)\u001B[38;5;241m.\u001B[39mT)\n\u001B[1;32m---> 10\u001B[0m     matrix \u001B[38;5;241m=\u001B[39m \u001B[43msort_adjacency_matrix_by_scores_and_decimal\u001B[49m\u001B[43m(\u001B[49m\u001B[43mmatrix\u001B[49m\u001B[38;5;241;43m.\u001B[39;49m\u001B[43mT\u001B[49m\u001B[43m)\u001B[49m\u001B[38;5;241m.\u001B[39mT\n\u001B[0;32m     11\u001B[0m     matrix \u001B[38;5;241m=\u001B[39m sort_adjacency_matrix_by_scores_and_decimal(matrix)\n\u001B[0;32m     12\u001B[0m     \u001B[38;5;28;01mreturn\u001B[39;00m matrix\n",
      "File \u001B[1;32m~\\BipartiteGraphHash\\hash.py:79\u001B[0m, in \u001B[0;36msort_adjacency_matrix_by_scores_and_decimal\u001B[1;34m(adjacency_matrix)\u001B[0m\n\u001B[0;32m     76\u001B[0m scores \u001B[38;5;241m=\u001B[39m get_score(adjacency_matrix)\n\u001B[0;32m     77\u001B[0m binary \u001B[38;5;241m=\u001B[39m get_decimal_edge_distance(adjacency_matrix)\n\u001B[1;32m---> 79\u001B[0m \u001B[38;5;28;01mreturn\u001B[39;00m \u001B[43mzip_sort_and_unzip\u001B[49m\u001B[43m(\u001B[49m\u001B[43mscores\u001B[49m\u001B[43m,\u001B[49m\u001B[43m \u001B[49m\u001B[43mbinary\u001B[49m\u001B[43m,\u001B[49m\u001B[43m \u001B[49m\u001B[43madjacency_matrix\u001B[49m\u001B[43m)\u001B[49m\n",
      "File \u001B[1;32m~\\BipartiteGraphHash\\hash.py:72\u001B[0m, in \u001B[0;36mzip_sort_and_unzip\u001B[1;34m(*args)\u001B[0m\n\u001B[0;32m     70\u001B[0m row_tuple \u001B[38;5;241m=\u001B[39m \u001B[38;5;28mlist\u001B[39m(\u001B[38;5;28mzip\u001B[39m(\u001B[38;5;241m*\u001B[39margs))\n\u001B[0;32m     71\u001B[0m row_tuple \u001B[38;5;241m=\u001B[39m sort_zipped_lists(row_tuple)\n\u001B[1;32m---> 72\u001B[0m \u001B[38;5;28;01mreturn\u001B[39;00m \u001B[43mnp\u001B[49m\u001B[38;5;241;43m.\u001B[39;49m\u001B[43marray\u001B[49m\u001B[43m(\u001B[49m\u001B[38;5;28;43mlist\u001B[39;49m\u001B[43m(\u001B[49m\u001B[38;5;28;43mzip\u001B[39;49m\u001B[43m(\u001B[49m\u001B[38;5;241;43m*\u001B[39;49m\u001B[43mrow_tuple\u001B[49m\u001B[43m)\u001B[49m\u001B[43m)\u001B[49m\u001B[43m[\u001B[49m\u001B[38;5;241;43m-\u001B[39;49m\u001B[38;5;241;43m1\u001B[39;49m\u001B[43m]\u001B[49m\u001B[43m)\u001B[49m\n",
      "\u001B[1;31mKeyboardInterrupt\u001B[0m: "
     ]
    }
   ],
   "source": [
    "test_matrix(hash_adjacency_matrix)"
   ],
   "metadata": {
    "collapsed": false
   }
  },
  {
   "cell_type": "code",
   "execution_count": 20,
   "outputs": [],
   "source": [
    "large_size = 300\n",
    "large_matrix = np.random.randint(2, size=(large_size, large_size))"
   ],
   "metadata": {
    "collapsed": false,
    "ExecuteTime": {
     "start_time": "2023-09-05T03:26:15.242714Z",
     "end_time": "2023-09-05T03:26:15.256723Z"
    }
   }
  },
  {
   "cell_type": "code",
   "execution_count": 53,
   "outputs": [
    {
     "data": {
      "text/plain": "array([[2, 1, 1, 2, 2],\n       [1, 3, 1, 2, 3],\n       [1, 1, 3, 3, 2],\n       [2, 2, 3, 4, 3],\n       [2, 3, 2, 3, 4]])"
     },
     "execution_count": 53,
     "metadata": {},
     "output_type": "execute_result"
    }
   ],
   "source": [
    "size = 5\n",
    "matrix = np.random.randint(2, size=(size, size))\n",
    "matrix, row_collisions, col_collisions = matrix_row_and_col_collisions(matrix)\n",
    "collision_matrix = row_collisions\n",
    "collision_matrix"
   ],
   "metadata": {
    "collapsed": false,
    "ExecuteTime": {
     "start_time": "2023-09-06T01:13:13.574047Z",
     "end_time": "2023-09-06T01:13:13.594051Z"
    }
   }
  },
  {
   "cell_type": "code",
   "execution_count": 54,
   "outputs": [
    {
     "data": {
      "text/plain": "array([[2, 1, 1, 2, 2],\n       [1, 1, 3, 2, 3],\n       [1, 1, 3, 2, 3],\n       [2, 2, 3, 3, 4],\n       [2, 2, 3, 3, 4]])"
     },
     "execution_count": 54,
     "metadata": {},
     "output_type": "execute_result"
    }
   ],
   "source": [
    "chunked_row_collisions = sort_chunked_row_collisions(collision_matrix)\n",
    "#chunked_row_order = new_order_of_rows(chunked_row_collisions)\n",
    "chunked_row_collisions"
   ],
   "metadata": {
    "collapsed": false,
    "ExecuteTime": {
     "start_time": "2023-09-06T01:13:16.822341Z",
     "end_time": "2023-09-06T01:13:16.845345Z"
    }
   }
  },
  {
   "cell_type": "code",
   "execution_count": 55,
   "outputs": [
    {
     "data": {
      "text/plain": "array([0, 1, 1, 3, 3], dtype=int64)"
     },
     "execution_count": 55,
     "metadata": {},
     "output_type": "execute_result"
    }
   ],
   "source": [
    "new_order = new_order_of_rows(chunked_row_collisions)\n",
    "new_order"
   ],
   "metadata": {
    "collapsed": false,
    "ExecuteTime": {
     "start_time": "2023-09-06T01:13:18.842477Z",
     "end_time": "2023-09-06T01:13:18.864483Z"
    }
   }
  },
  {
   "cell_type": "code",
   "execution_count": 39,
   "outputs": [
    {
     "data": {
      "text/plain": "array([[2, 0, 2, 2, 2],\n       [0, 3, 1, 1, 2],\n       [2, 1, 3, 2, 2],\n       [2, 1, 2, 3, 3],\n       [2, 2, 2, 3, 4]])"
     },
     "execution_count": 39,
     "metadata": {},
     "output_type": "execute_result"
    }
   ],
   "source": [
    "matrix_1, row_collisions_1, col_collisions_1 = matrix_row_and_col_collisions(matrix[new_order])\n",
    "row_collisions_1"
   ],
   "metadata": {
    "collapsed": false,
    "ExecuteTime": {
     "start_time": "2023-09-05T21:09:20.481919Z",
     "end_time": "2023-09-05T21:09:20.502923Z"
    }
   }
  },
  {
   "cell_type": "code",
   "execution_count": 42,
   "outputs": [
    {
     "data": {
      "text/plain": "array([[2, 0, 2, 2, 2],\n       [0, 1, 1, 3, 2],\n       [2, 1, 2, 3, 2],\n       [2, 1, 2, 3, 3],\n       [2, 2, 2, 3, 4]])"
     },
     "execution_count": 42,
     "metadata": {},
     "output_type": "execute_result"
    }
   ],
   "source": [
    "sort_chunked_row_collisions(row_collisions_1)"
   ],
   "metadata": {
    "collapsed": false,
    "ExecuteTime": {
     "start_time": "2023-09-05T21:13:02.624682Z",
     "end_time": "2023-09-05T21:13:02.647687Z"
    }
   }
  },
  {
   "cell_type": "code",
   "execution_count": 43,
   "outputs": [
    {
     "data": {
      "text/plain": "array([ 88, 107, 120,  82, 138])"
     },
     "execution_count": 43,
     "metadata": {},
     "output_type": "execute_result"
    }
   ],
   "source": [
    "get_score(row_collisions)"
   ],
   "metadata": {
    "collapsed": false,
    "ExecuteTime": {
     "start_time": "2023-09-06T00:48:01.559573Z",
     "end_time": "2023-09-06T00:48:01.590580Z"
    }
   }
  },
  {
   "cell_type": "code",
   "execution_count": 44,
   "outputs": [
    {
     "data": {
      "text/plain": "array([ 88,  82, 107, 120, 138])"
     },
     "execution_count": 44,
     "metadata": {},
     "output_type": "execute_result"
    }
   ],
   "source": [
    "get_score(row_collisions_1)"
   ],
   "metadata": {
    "collapsed": false,
    "ExecuteTime": {
     "start_time": "2023-09-06T00:48:08.257783Z",
     "end_time": "2023-09-06T00:48:08.302523Z"
    }
   }
  },
  {
   "cell_type": "code",
   "execution_count": 50,
   "outputs": [
    {
     "data": {
      "text/plain": "array([ 8,  7, 10, 11, 13])"
     },
     "execution_count": 50,
     "metadata": {},
     "output_type": "execute_result"
    }
   ],
   "source": [
    "np.sum(row_collisions_1, axis=1)"
   ],
   "metadata": {
    "collapsed": false,
    "ExecuteTime": {
     "start_time": "2023-09-06T00:52:23.261523Z",
     "end_time": "2023-09-06T00:52:23.287533Z"
    }
   }
  },
  {
   "cell_type": "code",
   "execution_count": 57,
   "outputs": [
    {
     "data": {
      "text/plain": "array([[0, 0, 1, 0, 1],\n       [1, 0, 1, 1, 0],\n       [0, 1, 0, 1, 1],\n       [0, 1, 1, 1, 1],\n       [1, 0, 1, 1, 1]])"
     },
     "execution_count": 57,
     "metadata": {},
     "output_type": "execute_result"
    }
   ],
   "source": [
    "matrix"
   ],
   "metadata": {
    "collapsed": false,
    "ExecuteTime": {
     "start_time": "2023-09-06T01:13:36.657523Z",
     "end_time": "2023-09-06T01:13:36.692530Z"
    }
   }
  },
  {
   "cell_type": "code",
   "execution_count": 56,
   "outputs": [
    {
     "data": {
      "text/plain": "array([[0, 0, 1, 0, 1],\n       [0, 1, 0, 1, 1],\n       [1, 0, 1, 1, 0],\n       [0, 1, 1, 1, 1],\n       [1, 0, 1, 1, 1]])"
     },
     "execution_count": 56,
     "metadata": {},
     "output_type": "execute_result"
    }
   ],
   "source": [
    "r_collisions = row_collisions\n",
    "r_diag = np.diag(r_collisions).reshape(1, -1).repeat(r_collisions.shape[0], axis=0)\n",
    "stacked_matrices = np.stack([r_collisions, r_diag], axis=2)\n",
    "\n",
    "stacked_matrices = np.sort(stacked_matrices, axis=1)\n",
    "\n",
    "np.array([x for _, _, x in sorted(zip(stacked_matrices[:, :, 0].tolist(), stacked_matrices[:, :, 1].tolist(), matrix.tolist()))])"
   ],
   "metadata": {
    "collapsed": false,
    "ExecuteTime": {
     "start_time": "2023-09-06T01:13:29.628989Z",
     "end_time": "2023-09-06T01:13:29.645993Z"
    }
   }
  },
  {
   "cell_type": "code",
   "execution_count": 27,
   "outputs": [
    {
     "name": "stdout",
     "output_type": "stream",
     "text": [
      "470 ms ± 7.95 ms per loop (mean ± std. dev. of 7 runs, 1 loop each)\n"
     ]
    }
   ],
   "source": [
    "%timeit hash_adjacency_matrix(large_matrix)"
   ],
   "metadata": {
    "collapsed": false,
    "ExecuteTime": {
     "start_time": "2023-09-05T03:32:38.087122Z",
     "end_time": "2023-09-05T03:32:41.885233Z"
    }
   }
  },
  {
   "cell_type": "code",
   "execution_count": 25,
   "outputs": [
    {
     "name": "stdout",
     "output_type": "stream",
     "text": [
      "num of matrices: 65536\n",
      "0\n",
      "1000\n",
      "2000\n",
      "3000\n",
      "4000\n",
      "[[0 0 1 0]\n",
      " [0 0 1 0]\n",
      " [0 0 0 1]\n",
      " [0 1 0 1]]\n",
      "[[0 1 0 0]\n",
      " [0 1 0 0]\n",
      " [0 0 0 1]\n",
      " [0 0 1 1]]\n"
     ]
    },
    {
     "ename": "AssertionError",
     "evalue": "",
     "output_type": "error",
     "traceback": [
      "\u001B[1;31m---------------------------------------------------------------------------\u001B[0m",
      "\u001B[1;31mAssertionError\u001B[0m                            Traceback (most recent call last)",
      "Cell \u001B[1;32mIn[25], line 1\u001B[0m\n\u001B[1;32m----> 1\u001B[0m \u001B[43mget_ipython\u001B[49m\u001B[43m(\u001B[49m\u001B[43m)\u001B[49m\u001B[38;5;241;43m.\u001B[39;49m\u001B[43mrun_line_magic\u001B[49m\u001B[43m(\u001B[49m\u001B[38;5;124;43m'\u001B[39;49m\u001B[38;5;124;43mtimeit\u001B[39;49m\u001B[38;5;124;43m'\u001B[39;49m\u001B[43m,\u001B[49m\u001B[43m \u001B[49m\u001B[38;5;124;43m'\u001B[39;49m\u001B[38;5;124;43mtest_matrix(mini_hash_3)\u001B[39;49m\u001B[38;5;124;43m'\u001B[39;49m\u001B[43m)\u001B[49m\n",
      "File \u001B[1;32m~\\anaconda3\\envs\\ContinuousTimeRL\\lib\\site-packages\\IPython\\core\\interactiveshell.py:2414\u001B[0m, in \u001B[0;36mInteractiveShell.run_line_magic\u001B[1;34m(self, magic_name, line, _stack_depth)\u001B[0m\n\u001B[0;32m   2412\u001B[0m     kwargs[\u001B[38;5;124m'\u001B[39m\u001B[38;5;124mlocal_ns\u001B[39m\u001B[38;5;124m'\u001B[39m] \u001B[38;5;241m=\u001B[39m \u001B[38;5;28mself\u001B[39m\u001B[38;5;241m.\u001B[39mget_local_scope(stack_depth)\n\u001B[0;32m   2413\u001B[0m \u001B[38;5;28;01mwith\u001B[39;00m \u001B[38;5;28mself\u001B[39m\u001B[38;5;241m.\u001B[39mbuiltin_trap:\n\u001B[1;32m-> 2414\u001B[0m     result \u001B[38;5;241m=\u001B[39m fn(\u001B[38;5;241m*\u001B[39margs, \u001B[38;5;241m*\u001B[39m\u001B[38;5;241m*\u001B[39mkwargs)\n\u001B[0;32m   2416\u001B[0m \u001B[38;5;66;03m# The code below prevents the output from being displayed\u001B[39;00m\n\u001B[0;32m   2417\u001B[0m \u001B[38;5;66;03m# when using magics with decodator @output_can_be_silenced\u001B[39;00m\n\u001B[0;32m   2418\u001B[0m \u001B[38;5;66;03m# when the last Python token in the expression is a ';'.\u001B[39;00m\n\u001B[0;32m   2419\u001B[0m \u001B[38;5;28;01mif\u001B[39;00m \u001B[38;5;28mgetattr\u001B[39m(fn, magic\u001B[38;5;241m.\u001B[39mMAGIC_OUTPUT_CAN_BE_SILENCED, \u001B[38;5;28;01mFalse\u001B[39;00m):\n",
      "File \u001B[1;32m~\\anaconda3\\envs\\ContinuousTimeRL\\lib\\site-packages\\IPython\\core\\magics\\execution.py:1170\u001B[0m, in \u001B[0;36mExecutionMagics.timeit\u001B[1;34m(self, line, cell, local_ns)\u001B[0m\n\u001B[0;32m   1168\u001B[0m \u001B[38;5;28;01mfor\u001B[39;00m index \u001B[38;5;129;01min\u001B[39;00m \u001B[38;5;28mrange\u001B[39m(\u001B[38;5;241m0\u001B[39m, \u001B[38;5;241m10\u001B[39m):\n\u001B[0;32m   1169\u001B[0m     number \u001B[38;5;241m=\u001B[39m \u001B[38;5;241m10\u001B[39m \u001B[38;5;241m*\u001B[39m\u001B[38;5;241m*\u001B[39m index\n\u001B[1;32m-> 1170\u001B[0m     time_number \u001B[38;5;241m=\u001B[39m \u001B[43mtimer\u001B[49m\u001B[38;5;241;43m.\u001B[39;49m\u001B[43mtimeit\u001B[49m\u001B[43m(\u001B[49m\u001B[43mnumber\u001B[49m\u001B[43m)\u001B[49m\n\u001B[0;32m   1171\u001B[0m     \u001B[38;5;28;01mif\u001B[39;00m time_number \u001B[38;5;241m>\u001B[39m\u001B[38;5;241m=\u001B[39m \u001B[38;5;241m0.2\u001B[39m:\n\u001B[0;32m   1172\u001B[0m         \u001B[38;5;28;01mbreak\u001B[39;00m\n",
      "File \u001B[1;32m~\\anaconda3\\envs\\ContinuousTimeRL\\lib\\site-packages\\IPython\\core\\magics\\execution.py:158\u001B[0m, in \u001B[0;36mTimer.timeit\u001B[1;34m(self, number)\u001B[0m\n\u001B[0;32m    156\u001B[0m gc\u001B[38;5;241m.\u001B[39mdisable()\n\u001B[0;32m    157\u001B[0m \u001B[38;5;28;01mtry\u001B[39;00m:\n\u001B[1;32m--> 158\u001B[0m     timing \u001B[38;5;241m=\u001B[39m \u001B[38;5;28;43mself\u001B[39;49m\u001B[38;5;241;43m.\u001B[39;49m\u001B[43minner\u001B[49m\u001B[43m(\u001B[49m\u001B[43mit\u001B[49m\u001B[43m,\u001B[49m\u001B[43m \u001B[49m\u001B[38;5;28;43mself\u001B[39;49m\u001B[38;5;241;43m.\u001B[39;49m\u001B[43mtimer\u001B[49m\u001B[43m)\u001B[49m\n\u001B[0;32m    159\u001B[0m \u001B[38;5;28;01mfinally\u001B[39;00m:\n\u001B[0;32m    160\u001B[0m     \u001B[38;5;28;01mif\u001B[39;00m gcold:\n",
      "File \u001B[1;32m<magic-timeit>:1\u001B[0m, in \u001B[0;36minner\u001B[1;34m(_it, _timer)\u001B[0m\n",
      "File \u001B[1;32m~\\BipartiteGraphHash\\gpu_attempt_test.py:94\u001B[0m, in \u001B[0;36mtest_matrix\u001B[1;34m(hash_matrix)\u001B[0m\n\u001B[0;32m     92\u001B[0m \u001B[38;5;28;01mif\u001B[39;00m count \u001B[38;5;241m%\u001B[39m \u001B[38;5;241m1000\u001B[39m \u001B[38;5;241m==\u001B[39m \u001B[38;5;241m0\u001B[39m:\n\u001B[0;32m     93\u001B[0m     \u001B[38;5;28mprint\u001B[39m(count)\n\u001B[1;32m---> 94\u001B[0m \u001B[43mfast_hash_testing\u001B[49m\u001B[43m(\u001B[49m\u001B[43mmat\u001B[49m\u001B[43m,\u001B[49m\u001B[43m \u001B[49m\u001B[43mhash_matrix\u001B[49m\u001B[43m)\u001B[49m\n\u001B[0;32m     95\u001B[0m count \u001B[38;5;241m+\u001B[39m\u001B[38;5;241m=\u001B[39m \u001B[38;5;241m1\u001B[39m\n",
      "File \u001B[1;32m~\\BipartiteGraphHash\\gpu_attempt_test.py:79\u001B[0m, in \u001B[0;36mfast_hash_testing\u001B[1;34m(matrix, hash_matrix)\u001B[0m\n\u001B[0;32m     77\u001B[0m         \u001B[38;5;28mprint\u001B[39m(format_array(i)\u001B[38;5;241m.\u001B[39mreshape((matrix\u001B[38;5;241m.\u001B[39mshape[\u001B[38;5;241m0\u001B[39m], matrix\u001B[38;5;241m.\u001B[39mshape[\u001B[38;5;241m1\u001B[39m])))\n\u001B[0;32m     78\u001B[0m     \u001B[38;5;66;03m# print(hash_dict)\u001B[39;00m\n\u001B[1;32m---> 79\u001B[0m \u001B[38;5;28;01massert\u001B[39;00m \u001B[38;5;28mlen\u001B[39m(hash_dict) \u001B[38;5;241m==\u001B[39m \u001B[38;5;241m1\u001B[39m\n",
      "\u001B[1;31mAssertionError\u001B[0m: "
     ]
    }
   ],
   "source": [
    "%timeit test_matrix(mini_hash_3)"
   ],
   "metadata": {
    "collapsed": false
   }
  },
  {
   "cell_type": "code",
   "execution_count": null,
   "outputs": [],
   "source": [
    "%timeit test_matrix(mini_hash_2)"
   ],
   "metadata": {
    "collapsed": false
   }
  },
  {
   "cell_type": "code",
   "execution_count": 32,
   "outputs": [],
   "source": [
    "collision_matrix = np.array([[0, 0, 1, 1],\n",
    "                   [0, 1, 1, 0],\n",
    "                   [0, 1, 1, 0],\n",
    "                   [0, 0, 1, 2]])\n",
    "expected_array = [1, 1, 0, 2]"
   ],
   "metadata": {
    "collapsed": false,
    "ExecuteTime": {
     "start_time": "2023-08-30T15:42:08.051891Z",
     "end_time": "2023-08-30T15:42:08.058889Z"
    }
   }
  },
  {
   "cell_type": "code",
   "execution_count": 43,
   "outputs": [
    {
     "data": {
      "text/plain": "array([[0, 0, 1, 1],\n       [0, 1, 1, 0],\n       [0, 1, 1, 0],\n       [0, 0, 1, 2]])"
     },
     "execution_count": 43,
     "metadata": {},
     "output_type": "execute_result"
    }
   ],
   "source": [
    "collision_matrix"
   ],
   "metadata": {
    "collapsed": false,
    "ExecuteTime": {
     "start_time": "2023-08-30T15:44:44.027850Z",
     "end_time": "2023-08-30T15:44:44.053855Z"
    }
   }
  },
  {
   "cell_type": "code",
   "execution_count": 44,
   "outputs": [
    {
     "data": {
      "text/plain": "array([[0, 0, 0, 0],\n       [0, 1, 1, 0],\n       [1, 1, 1, 1],\n       [1, 0, 0, 2]])"
     },
     "execution_count": 44,
     "metadata": {},
     "output_type": "execute_result"
    }
   ],
   "source": [
    "collision_matrix.T"
   ],
   "metadata": {
    "collapsed": false,
    "ExecuteTime": {
     "start_time": "2023-08-30T15:44:44.361178Z",
     "end_time": "2023-08-30T15:44:44.388413Z"
    }
   }
  },
  {
   "cell_type": "code",
   "execution_count": 54,
   "outputs": [
    {
     "name": "stdout",
     "output_type": "stream",
     "text": [
      "previous index: [1 2 0 3]\n",
      "[0 1 1 0]\n",
      "[0 1 1 0]\n",
      "[0 0 1 1]\n",
      "[0 0 1 2]\n"
     ]
    },
    {
     "data": {
      "text/plain": "array([1, 1, 0, 3], dtype=int64)"
     },
     "execution_count": 54,
     "metadata": {},
     "output_type": "execute_result"
    }
   ],
   "source": [],
   "metadata": {
    "collapsed": false,
    "ExecuteTime": {
     "start_time": "2023-08-30T15:52:57.356260Z",
     "end_time": "2023-08-30T15:52:57.387275Z"
    }
   }
  },
  {
   "cell_type": "code",
   "execution_count": null,
   "outputs": [],
   "source": [],
   "metadata": {
    "collapsed": false
   }
  }
 ],
 "metadata": {
  "kernelspec": {
   "display_name": "Python 3",
   "language": "python",
   "name": "python3"
  },
  "language_info": {
   "codemirror_mode": {
    "name": "ipython",
    "version": 2
   },
   "file_extension": ".py",
   "mimetype": "text/x-python",
   "name": "python",
   "nbconvert_exporter": "python",
   "pygments_lexer": "ipython2",
   "version": "2.7.6"
  }
 },
 "nbformat": 4,
 "nbformat_minor": 0
}
