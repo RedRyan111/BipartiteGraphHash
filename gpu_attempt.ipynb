{
 "cells": [
  {
   "cell_type": "code",
   "execution_count": 1,
   "metadata": {
    "collapsed": true,
    "ExecuteTime": {
     "start_time": "2023-08-30T15:55:28.654801Z",
     "end_time": "2023-08-30T15:55:28.771827Z"
    }
   },
   "outputs": [],
   "source": [
    "import numpy as np\n",
    "import time\n",
    "from sorted_row_collisions import *\n",
    "from gpu_attempt_test import *\n",
    "#from hash import *"
   ]
  },
  {
   "cell_type": "code",
   "execution_count": 2,
   "outputs": [],
   "source": [
    "def get_decimal_edge_distance(adjacency_matrix):\n",
    "    return np.sum(np.matmul(\n",
    "        adjacency_matrix,\n",
    "        2 ** get_edge_distance_matrix(adjacency_matrix.shape[0], adjacency_matrix.shape[1])),\n",
    "        axis=1)"
   ],
   "metadata": {
    "collapsed": false,
    "ExecuteTime": {
     "start_time": "2023-08-30T15:55:28.761825Z",
     "end_time": "2023-08-30T15:55:28.781830Z"
    }
   }
  },
  {
   "cell_type": "code",
   "execution_count": 3,
   "outputs": [],
   "source": [
    "def get_edge_distance_matrix(height, width):\n",
    "    arr_1 = np.arange(width)\n",
    "    arr_2 = np.arange(height).reshape(height, 1)\n",
    "\n",
    "    repeated_arr_1 = np.tile(arr_1, (height, 1))\n",
    "    repeated_arr_2 = np.tile(arr_2, (1, width))\n",
    "\n",
    "    return np.minimum(repeated_arr_1, repeated_arr_2)"
   ],
   "metadata": {
    "collapsed": false,
    "ExecuteTime": {
     "start_time": "2023-08-30T15:55:28.775829Z",
     "end_time": "2023-08-30T15:55:28.821843Z"
    }
   }
  },
  {
   "cell_type": "code",
   "execution_count": 4,
   "outputs": [],
   "source": [
    "def get_score(adjacency_matrix):\n",
    "    row_sum = np.sum(adjacency_matrix, axis=0)\n",
    "    col_score = np.matmul(row_sum, adjacency_matrix.T)\n",
    "    return col_score"
   ],
   "metadata": {
    "collapsed": false,
    "ExecuteTime": {
     "start_time": "2023-08-30T15:55:28.793833Z",
     "end_time": "2023-08-30T15:55:28.838847Z"
    }
   }
  },
  {
   "cell_type": "code",
   "execution_count": 5,
   "outputs": [],
   "source": [
    "#the matrix is getting transformed in a way that shouldn't be allowed. There is a different operation than the rows and columns just being swapped\n",
    "def full_hash_1(matrix):\n",
    "    matrix, row_diags, row_order_1 = matrix_row_collisions_split_then_sorted_1(matrix)\n",
    "    print(\"matrix after rows sorted by diagonals\")\n",
    "    print(matrix)\n",
    "    matrix, col_diags, col_order_1 = matrix_row_collisions_split_then_sorted_1(matrix.T)\n",
    "    matrix = matrix.T\n",
    "    print(\"matrix after cols sorted by diagonals\")\n",
    "    print(matrix)\n",
    "\n",
    "    #sort matrix rows\n",
    "    decimal_matrix = get_row_bit_scores(matrix)\n",
    "    print(f\"row diags: {row_diags.reshape(-1)} row order: {row_order_1.reshape(-1)} decimal: {decimal_matrix.reshape(-1)}\")\n",
    "\n",
    "    row_collisions = np.concatenate([get_score(matrix).reshape(-1,1), row_diags, row_order_1, decimal_matrix],axis=1)\n",
    "    argsorted_rows_indecis = order_of_rows(row_collisions)\n",
    "\n",
    "    matrix = matrix[argsorted_rows_indecis]\n",
    "\n",
    "    #sort matrix cols\n",
    "    decimal_matrix = get_row_bit_scores(matrix.T)\n",
    "    print(f\"col diags: {col_diags.reshape(-1)} col order: {col_order_1.reshape(-1)} decimal: {decimal_matrix.reshape(-1)}\")\n",
    "\n",
    "    col_collisions = np.concatenate([get_score(matrix.T).reshape(-1,1), col_diags, col_order_1, decimal_matrix],axis=1)\n",
    "    argsorted_col_indecis = order_of_rows(col_collisions)\n",
    "\n",
    "    #matrix = matrix.T[argsorted_col_indecis]\n",
    "    matrix = matrix[:, argsorted_col_indecis]\n",
    "\n",
    "    return matrix"
   ],
   "metadata": {
    "collapsed": false,
    "ExecuteTime": {
     "start_time": "2023-08-30T15:55:28.811836Z",
     "end_time": "2023-08-30T15:55:28.839847Z"
    }
   }
  },
  {
   "cell_type": "code",
   "execution_count": 6,
   "outputs": [],
   "source": [
    "#maybe sort by decimal last?\n",
    "def matrix_row_collisions_split_then_sorted_1(matrix):\n",
    "    matrix, row_collisions = get_matrix_and_row_collisions_sorted_by_row_collision_diagonals(matrix)\n",
    "\n",
    "    diags = np.sum(row_collisions, axis=1)\n",
    "\n",
    "    #get row collision order\n",
    "    row_collisions = sort_chunked_row_collisions(row_collisions)\n",
    "    #row_collision_order = custom_row_order(np.fliplr(row_collisions)).reshape(-1,1)\n",
    "    row_collision_order = order_of_rows(row_collisions).reshape(-1,1) #since this gets sorted, this should be fine to order???\n",
    "\n",
    "    return matrix, diags.reshape(-1,1), row_collision_order"
   ],
   "metadata": {
    "collapsed": false,
    "ExecuteTime": {
     "start_time": "2023-08-30T15:55:28.823844Z",
     "end_time": "2023-08-30T15:55:28.840847Z"
    }
   }
  },
  {
   "cell_type": "code",
   "execution_count": 17,
   "outputs": [],
   "source": [
    "def new_hash(matrix):\n",
    "    matrix, row_collisions, col_collisions = matrix_row_and_col_collisions(matrix)\n",
    "\n",
    "    #row sort starts\n",
    "    row_collision_diags = np.diag(row_collisions).reshape(-1,1)\n",
    "    decimal_matrix = get_row_bit_scores(matrix).reshape(-1,1)\n",
    "\n",
    "    row_sorting_matrix = np.concatenate([row_collision_diags, row_collisions, decimal_matrix],axis=1)\n",
    "    argsorted_rows_indecis = new_order_of_rows(row_sorting_matrix)\n",
    "    matrix = matrix[argsorted_rows_indecis]\n",
    "\n",
    "    #col sort starts\n",
    "    col_collision_diags = np.diag(col_collisions).reshape(-1,1)\n",
    "    decimal_matrix = get_row_bit_scores(matrix.T).reshape(-1,1)\n",
    "\n",
    "    row_sorting_matrix = np.concatenate([col_collision_diags, col_collisions, decimal_matrix],axis=1)\n",
    "    argsorted_rows_indecis = new_order_of_rows(row_sorting_matrix)\n",
    "    matrix = matrix.T[argsorted_rows_indecis]\n",
    "\n",
    "    return matrix.T"
   ],
   "metadata": {
    "collapsed": false,
    "ExecuteTime": {
     "start_time": "2023-08-30T15:56:34.247067Z",
     "end_time": "2023-08-30T15:56:34.276077Z"
    }
   }
  },
  {
   "cell_type": "code",
   "execution_count": 80,
   "outputs": [],
   "source": [
    "def get_order_of_chunked_row_collisions(collision_matrix):\n",
    "    chunked_row_collisions = sort_chunked_row_collisions(collision_matrix)\n",
    "    chunked_row_order = new_order_of_rows(chunked_row_collisions)#.reshape(-1,1) #this is still wrong...\n",
    "    #print(f\"chunked collisions:\")\n",
    "    #print(chunked_row_collisions)\n",
    "    return chunked_row_order"
   ],
   "metadata": {
    "collapsed": false,
    "ExecuteTime": {
     "start_time": "2023-08-30T16:32:51.822777Z",
     "end_time": "2023-08-30T16:32:51.838780Z"
    }
   }
  },
  {
   "cell_type": "code",
   "execution_count": 128,
   "outputs": [],
   "source": [
    "def mini_hash(matrix):\n",
    "    matrix, row_collisions, col_collisions = matrix_row_and_col_collisions(matrix)\n",
    "\n",
    "    #print(\"-------------matrix-----------\")\n",
    "    #print(matrix)\n",
    "    #print(\"---------row collisions-----------\")\n",
    "    #print(row_collisions)\n",
    "    #print(\"---------col collisions-----------\")\n",
    "    #print(col_collisions)\n",
    "\n",
    "\n",
    "    #start row sorts\n",
    "    chunked_row_order = get_order_of_chunked_row_collisions(row_collisions).reshape(-1,1)\n",
    "    decimal_matrix = get_row_bit_scores(matrix).reshape(-1,1)\n",
    "\n",
    "    row_sorting_matrix = np.concatenate([chunked_row_order, decimal_matrix],axis=1)\n",
    "    #print(f\"row sorting matrix:\")\n",
    "    #print(row_sorting_matrix)\n",
    "    argsorted_rows_indecis = new_order_of_rows(np.fliplr(row_sorting_matrix))#order_of_rows(row_sorting_matrix)\n",
    "\n",
    "    #print(f\"arg sorted rows: {argsorted_rows_indecis.reshape(-1)}\")\n",
    "\n",
    "    matrix = matrix[argsorted_rows_indecis]\n",
    "    #print(\"matrix after row sorts\")\n",
    "    #print(matrix)\n",
    "\n",
    "    #col sort starts\n",
    "    chunked_col_order = get_order_of_chunked_row_collisions(col_collisions).reshape(-1,1)\n",
    "    decimal_matrix = get_row_bit_scores(matrix.T).reshape(-1,1)\n",
    "\n",
    "    col_sorting_matrix = np.concatenate([chunked_col_order, decimal_matrix],axis=1)\n",
    "    #print(f\"col sorting matrix:\")\n",
    "    #print(col_sorting_matrix)\n",
    "    argsorted_cols_indecis = new_order_of_rows(np.fliplr(col_sorting_matrix))#order_of_rows(row_sorting_matrix)\n",
    "    #print(f\"arg sorted cols: {argsorted_cols_indecis.reshape(-1)}\")\n",
    "    matrix = matrix[:, argsorted_cols_indecis]\n",
    "\n",
    "    #print(\"matrix after col sorts\")\n",
    "    #print(matrix)\n",
    "    #print(\"--------------------\")\n",
    "    #print(row_collisions)\n",
    "    #print(\"--------------------\")\n",
    "    #print(col_collisions)\n",
    "\n",
    "    return matrix"
   ],
   "metadata": {
    "collapsed": false,
    "ExecuteTime": {
     "start_time": "2023-08-30T17:03:13.819141Z",
     "end_time": "2023-08-30T17:03:13.840765Z"
    }
   }
  },
  {
   "cell_type": "code",
   "execution_count": 129,
   "outputs": [],
   "source": [
    "def mini_hash_2_1(matrix):\n",
    "    matrix, row_collisions, col_collisions = matrix_row_and_col_collisions(matrix)\n",
    "\n",
    "    #start row sorts\n",
    "    chunked_row_order = get_order_of_chunked_row_collisions(row_collisions).reshape(-1,1)\n",
    "    decimal_matrix = get_row_bit_scores(matrix).reshape(-1,1)\n",
    "\n",
    "    row_sorting_matrix = np.concatenate([decimal_matrix, chunked_row_order],axis=1)\n",
    "    argsorted_rows_indecis = new_order_of_rows(row_sorting_matrix)\n",
    "\n",
    "    matrix = matrix[argsorted_rows_indecis]\n",
    "\n",
    "    #col sort starts\n",
    "    chunked_col_order = get_order_of_chunked_row_collisions(col_collisions).reshape(-1,1)\n",
    "    decimal_matrix = get_row_bit_scores(matrix.T).reshape(-1,1)\n",
    "\n",
    "    col_sorting_matrix = np.concatenate([decimal_matrix, chunked_col_order],axis=1)\n",
    "    argsorted_cols_indecis = new_order_of_rows(col_sorting_matrix)\n",
    "    matrix = matrix[:, argsorted_cols_indecis]\n",
    "\n",
    "    return matrix"
   ],
   "metadata": {
    "collapsed": false,
    "ExecuteTime": {
     "start_time": "2023-08-30T17:03:14.011851Z",
     "end_time": "2023-08-30T17:03:14.039863Z"
    }
   }
  },
  {
   "cell_type": "code",
   "execution_count": 130,
   "outputs": [],
   "source": [
    "def mini_hash_2(matrix):\n",
    "    return mini_hash(mini_hash(matrix))\n",
    "\n",
    "def mini_hash_2_2(matrix):\n",
    "    return mini_hash_2_1(mini_hash_2_1(matrix))"
   ],
   "metadata": {
    "collapsed": false,
    "ExecuteTime": {
     "start_time": "2023-08-30T17:03:14.227350Z",
     "end_time": "2023-08-30T17:03:14.245353Z"
    }
   }
  },
  {
   "cell_type": "code",
   "execution_count": 143,
   "outputs": [],
   "source": [
    "def mini_hash_3(matrix):\n",
    "    matrix, row_collisions, col_collisions = matrix_row_and_col_collisions(matrix)\n",
    "\n",
    "    #start row sorts\n",
    "    chunked_row_order = np.argsort(get_order_of_chunked_row_collisions(row_collisions))\n",
    "    chunked_col_order = np.argsort(get_order_of_chunked_row_collisions(col_collisions))\n",
    "    matrix = matrix[chunked_row_order][:, chunked_col_order]\n",
    "\n",
    "    #decimal row sorting\n",
    "    decimal_matrix = get_row_bit_scores(matrix).reshape(-1,1)\n",
    "    row_sorting_matrix = np.concatenate([decimal_matrix, chunked_row_order.reshape(-1,1)],axis=1)\n",
    "    argsorted_rows_indecis = new_order_of_rows(row_sorting_matrix)\n",
    "    matrix = matrix[argsorted_rows_indecis]\n",
    "\n",
    "    #decimal col sorting\n",
    "    decimal_matrix = get_row_bit_scores(matrix.T).reshape(-1,1)\n",
    "    col_sorting_matrix = np.concatenate([decimal_matrix, chunked_col_order.reshape(-1,1)],axis=1)\n",
    "    argsorted_cols_indecis = new_order_of_rows(col_sorting_matrix)\n",
    "    matrix = matrix[:, argsorted_cols_indecis]\n",
    "\n",
    "    return matrix"
   ],
   "metadata": {
    "collapsed": false,
    "ExecuteTime": {
     "start_time": "2023-08-30T17:04:38.314358Z",
     "end_time": "2023-08-30T17:04:38.335365Z"
    }
   }
  },
  {
   "cell_type": "code",
   "execution_count": 144,
   "outputs": [],
   "source": [
    "a = format_array('[[0 0 0 1] [1 0 0 1] [0 1 1 0] [0 0 0 0]]')\n",
    "b = format_array('[[0 0 0 0] [0 0 0 1] [1 1 0 0] [0 0 1 1]]')\n",
    "c = format_array('[[0 0 0 1] [0 1 1 0] [1 0 0 1] [0 0 0 0]]')"
   ],
   "metadata": {
    "collapsed": false,
    "ExecuteTime": {
     "start_time": "2023-08-30T17:04:38.525804Z",
     "end_time": "2023-08-30T17:04:38.555812Z"
    }
   }
  },
  {
   "cell_type": "code",
   "execution_count": 145,
   "outputs": [],
   "source": [
    "a = format_array('[[0 0 0 0] [0 0 1 0] [1 0 0 0] [0 1 0 1]]')\n",
    "b = format_array('[[0 0 0 0] [1 0 0 0] [0 0 1 0] [0 1 0 1]]')\n",
    "c = b.T"
   ],
   "metadata": {
    "collapsed": false,
    "ExecuteTime": {
     "start_time": "2023-08-30T17:04:38.731895Z",
     "end_time": "2023-08-30T17:04:38.764841Z"
    }
   }
  },
  {
   "cell_type": "code",
   "execution_count": 141,
   "outputs": [
    {
     "name": "stdout",
     "output_type": "stream",
     "text": [
      "[[0 0 0 0]\n",
      " [0 0 1 0]\n",
      " [1 0 0 0]\n",
      " [0 1 0 1]]\n"
     ]
    },
    {
     "data": {
      "text/plain": "array([[0, 0, 0, 0],\n       [1, 0, 0, 0],\n       [0, 0, 1, 0],\n       [0, 1, 0, 1]])"
     },
     "execution_count": 141,
     "metadata": {},
     "output_type": "execute_result"
    }
   ],
   "source": [
    "print(a)\n",
    "matrix = mini_hash(a)\n",
    "matrix"
   ],
   "metadata": {
    "collapsed": false,
    "ExecuteTime": {
     "start_time": "2023-08-30T17:04:17.767945Z",
     "end_time": "2023-08-30T17:04:17.795696Z"
    }
   }
  },
  {
   "cell_type": "code",
   "execution_count": 119,
   "outputs": [
    {
     "name": "stdout",
     "output_type": "stream",
     "text": [
      "[[0 1 0 0]\n",
      " [0 0 0 1]\n",
      " [0 0 1 0]\n",
      " [0 0 0 1]]\n"
     ]
    },
    {
     "data": {
      "text/plain": "array([[0, 0, 0, 0],\n       [0, 0, 1, 0],\n       [1, 0, 0, 0],\n       [0, 1, 0, 1]])"
     },
     "execution_count": 119,
     "metadata": {},
     "output_type": "execute_result"
    }
   ],
   "source": [
    "print(c)\n",
    "matrix = mini_hash_3(a)\n",
    "matrix"
   ],
   "metadata": {
    "collapsed": false,
    "ExecuteTime": {
     "start_time": "2023-08-30T16:59:37.234052Z",
     "end_time": "2023-08-30T16:59:37.255056Z"
    }
   }
  },
  {
   "cell_type": "code",
   "execution_count": 109,
   "outputs": [
    {
     "data": {
      "text/plain": "array([[0, 0, 0, 0],\n       [0, 0, 1, 0],\n       [1, 0, 0, 0],\n       [0, 1, 0, 1]])"
     },
     "execution_count": 109,
     "metadata": {},
     "output_type": "execute_result"
    }
   ],
   "source": [
    "matrix = mini_hash_3(mini_hash_3(a))\n",
    "matrix"
   ],
   "metadata": {
    "collapsed": false,
    "ExecuteTime": {
     "start_time": "2023-08-30T16:42:24.798469Z",
     "end_time": "2023-08-30T16:42:24.822474Z"
    }
   }
  },
  {
   "cell_type": "code",
   "execution_count": 135,
   "outputs": [],
   "source": [
    "fast_hash_testing(matrix, mini_hash_2_2)"
   ],
   "metadata": {
    "collapsed": false,
    "ExecuteTime": {
     "start_time": "2023-08-30T17:03:45.534038Z",
     "end_time": "2023-08-30T17:03:45.566045Z"
    }
   }
  },
  {
   "cell_type": "code",
   "execution_count": 146,
   "outputs": [
    {
     "name": "stdout",
     "output_type": "stream",
     "text": [
      "num of matrices: 65536\n",
      "0\n",
      "[[0 0 0 0]\n",
      " [0 0 0 0]\n",
      " [0 0 1 0]\n",
      " [0 0 0 1]]\n",
      "[[0 0 0 0]\n",
      " [0 0 0 0]\n",
      " [0 0 0 1]\n",
      " [0 0 1 0]]\n"
     ]
    },
    {
     "ename": "AssertionError",
     "evalue": "",
     "output_type": "error",
     "traceback": [
      "\u001B[1;31m---------------------------------------------------------------------------\u001B[0m",
      "\u001B[1;31mAssertionError\u001B[0m                            Traceback (most recent call last)",
      "Cell \u001B[1;32mIn[146], line 1\u001B[0m\n\u001B[1;32m----> 1\u001B[0m \u001B[43mtest_matrix\u001B[49m\u001B[43m(\u001B[49m\u001B[43mmini_hash_3\u001B[49m\u001B[43m)\u001B[49m\n",
      "File \u001B[1;32m~\\BipartiteGraphHash\\gpu_attempt_test.py:94\u001B[0m, in \u001B[0;36mtest_matrix\u001B[1;34m(hash_matrix)\u001B[0m\n\u001B[0;32m     92\u001B[0m \u001B[38;5;28;01mif\u001B[39;00m count \u001B[38;5;241m%\u001B[39m \u001B[38;5;241m1000\u001B[39m \u001B[38;5;241m==\u001B[39m \u001B[38;5;241m0\u001B[39m:\n\u001B[0;32m     93\u001B[0m     \u001B[38;5;28mprint\u001B[39m(count)\n\u001B[1;32m---> 94\u001B[0m \u001B[43mfast_hash_testing\u001B[49m\u001B[43m(\u001B[49m\u001B[43mmat\u001B[49m\u001B[43m,\u001B[49m\u001B[43m \u001B[49m\u001B[43mhash_matrix\u001B[49m\u001B[43m)\u001B[49m\n\u001B[0;32m     95\u001B[0m count \u001B[38;5;241m+\u001B[39m\u001B[38;5;241m=\u001B[39m \u001B[38;5;241m1\u001B[39m\n",
      "File \u001B[1;32m~\\BipartiteGraphHash\\gpu_attempt_test.py:79\u001B[0m, in \u001B[0;36mfast_hash_testing\u001B[1;34m(matrix, hash_matrix)\u001B[0m\n\u001B[0;32m     77\u001B[0m         \u001B[38;5;28mprint\u001B[39m(format_array(i)\u001B[38;5;241m.\u001B[39mreshape((matrix\u001B[38;5;241m.\u001B[39mshape[\u001B[38;5;241m0\u001B[39m], matrix\u001B[38;5;241m.\u001B[39mshape[\u001B[38;5;241m1\u001B[39m])))\n\u001B[0;32m     78\u001B[0m     \u001B[38;5;66;03m# print(hash_dict)\u001B[39;00m\n\u001B[1;32m---> 79\u001B[0m \u001B[38;5;28;01massert\u001B[39;00m \u001B[38;5;28mlen\u001B[39m(hash_dict) \u001B[38;5;241m==\u001B[39m \u001B[38;5;241m1\u001B[39m\n",
      "\u001B[1;31mAssertionError\u001B[0m: "
     ]
    }
   ],
   "source": [
    "test_matrix(mini_hash_2_2)"
   ],
   "metadata": {
    "collapsed": false
   }
  },
  {
   "cell_type": "code",
   "execution_count": 97,
   "outputs": [
    {
     "name": "stdout",
     "output_type": "stream",
     "text": [
      "num of matrices: 65536\n",
      "0\n",
      "1000\n",
      "2000\n"
     ]
    },
    {
     "ename": "KeyboardInterrupt",
     "evalue": "",
     "output_type": "error",
     "traceback": [
      "\u001B[1;31m---------------------------------------------------------------------------\u001B[0m",
      "\u001B[1;31mKeyboardInterrupt\u001B[0m                         Traceback (most recent call last)",
      "Cell \u001B[1;32mIn[97], line 1\u001B[0m\n\u001B[1;32m----> 1\u001B[0m \u001B[43mtest_matrix\u001B[49m\u001B[43m(\u001B[49m\u001B[43mmini_hash_2\u001B[49m\u001B[43m)\u001B[49m\n",
      "File \u001B[1;32m~\\BipartiteGraphHash\\gpu_attempt_test.py:94\u001B[0m, in \u001B[0;36mtest_matrix\u001B[1;34m(hash_matrix)\u001B[0m\n\u001B[0;32m     92\u001B[0m \u001B[38;5;28;01mif\u001B[39;00m count \u001B[38;5;241m%\u001B[39m \u001B[38;5;241m1000\u001B[39m \u001B[38;5;241m==\u001B[39m \u001B[38;5;241m0\u001B[39m:\n\u001B[0;32m     93\u001B[0m     \u001B[38;5;28mprint\u001B[39m(count)\n\u001B[1;32m---> 94\u001B[0m \u001B[43mfast_hash_testing\u001B[49m\u001B[43m(\u001B[49m\u001B[43mmat\u001B[49m\u001B[43m,\u001B[49m\u001B[43m \u001B[49m\u001B[43mhash_matrix\u001B[49m\u001B[43m)\u001B[49m\n\u001B[0;32m     95\u001B[0m count \u001B[38;5;241m+\u001B[39m\u001B[38;5;241m=\u001B[39m \u001B[38;5;241m1\u001B[39m\n",
      "File \u001B[1;32m~\\BipartiteGraphHash\\gpu_attempt_test.py:61\u001B[0m, in \u001B[0;36mfast_hash_testing\u001B[1;34m(matrix, hash_matrix)\u001B[0m\n\u001B[0;32m     58\u001B[0m sorted_edges_matrix \u001B[38;5;241m=\u001B[39m hash_matrix(matrix)\n\u001B[0;32m     59\u001B[0m sorted_edges_matrix \u001B[38;5;241m=\u001B[39m \u001B[38;5;28mstr\u001B[39m(np\u001B[38;5;241m.\u001B[39marray(sorted_edges_matrix)\u001B[38;5;241m.\u001B[39mflatten())\n\u001B[1;32m---> 61\u001B[0m sorted_edges_m1 \u001B[38;5;241m=\u001B[39m \u001B[43mhash_matrix\u001B[49m\u001B[43m(\u001B[49m\u001B[43mm1\u001B[49m\u001B[43m)\u001B[49m\n\u001B[0;32m     62\u001B[0m sorted_edges_m1 \u001B[38;5;241m=\u001B[39m \u001B[38;5;28mstr\u001B[39m(np\u001B[38;5;241m.\u001B[39marray(sorted_edges_m1)\u001B[38;5;241m.\u001B[39mflatten())\n\u001B[0;32m     64\u001B[0m sorted_edges_m2 \u001B[38;5;241m=\u001B[39m hash_matrix(m2)\n",
      "Cell \u001B[1;32mIn[82], line 2\u001B[0m, in \u001B[0;36mmini_hash_2\u001B[1;34m(matrix)\u001B[0m\n\u001B[0;32m      1\u001B[0m \u001B[38;5;28;01mdef\u001B[39;00m \u001B[38;5;21mmini_hash_2\u001B[39m(matrix):\n\u001B[1;32m----> 2\u001B[0m     \u001B[38;5;28;01mreturn\u001B[39;00m mini_hash(\u001B[43mmini_hash\u001B[49m\u001B[43m(\u001B[49m\u001B[43mmatrix\u001B[49m\u001B[43m)\u001B[49m)\n",
      "Cell \u001B[1;32mIn[87], line 13\u001B[0m, in \u001B[0;36mmini_hash\u001B[1;34m(matrix)\u001B[0m\n\u001B[0;32m      2\u001B[0m matrix, row_collisions, col_collisions \u001B[38;5;241m=\u001B[39m matrix_row_and_col_collisions(matrix)\n\u001B[0;32m      4\u001B[0m \u001B[38;5;66;03m#print(\"-------------matrix-----------\")\u001B[39;00m\n\u001B[0;32m      5\u001B[0m \u001B[38;5;66;03m#print(matrix)\u001B[39;00m\n\u001B[0;32m      6\u001B[0m \u001B[38;5;66;03m#print(\"---------row collisions-----------\")\u001B[39;00m\n\u001B[1;32m   (...)\u001B[0m\n\u001B[0;32m     11\u001B[0m \n\u001B[0;32m     12\u001B[0m \u001B[38;5;66;03m#start row sorts\u001B[39;00m\n\u001B[1;32m---> 13\u001B[0m chunked_row_order \u001B[38;5;241m=\u001B[39m \u001B[43mget_order_of_chunked_row_collisions\u001B[49m\u001B[43m(\u001B[49m\u001B[43mrow_collisions\u001B[49m\u001B[43m)\u001B[49m\u001B[38;5;241m.\u001B[39mreshape(\u001B[38;5;241m-\u001B[39m\u001B[38;5;241m1\u001B[39m,\u001B[38;5;241m1\u001B[39m)\n\u001B[0;32m     14\u001B[0m decimal_matrix \u001B[38;5;241m=\u001B[39m get_row_bit_scores(matrix)\u001B[38;5;241m.\u001B[39mreshape(\u001B[38;5;241m-\u001B[39m\u001B[38;5;241m1\u001B[39m,\u001B[38;5;241m1\u001B[39m)\n\u001B[0;32m     16\u001B[0m row_sorting_matrix \u001B[38;5;241m=\u001B[39m np\u001B[38;5;241m.\u001B[39mconcatenate([chunked_row_order, decimal_matrix],axis\u001B[38;5;241m=\u001B[39m\u001B[38;5;241m1\u001B[39m)\n",
      "Cell \u001B[1;32mIn[80], line 2\u001B[0m, in \u001B[0;36mget_order_of_chunked_row_collisions\u001B[1;34m(collision_matrix)\u001B[0m\n\u001B[0;32m      1\u001B[0m \u001B[38;5;28;01mdef\u001B[39;00m \u001B[38;5;21mget_order_of_chunked_row_collisions\u001B[39m(collision_matrix):\n\u001B[1;32m----> 2\u001B[0m     chunked_row_collisions \u001B[38;5;241m=\u001B[39m \u001B[43msort_chunked_row_collisions\u001B[49m\u001B[43m(\u001B[49m\u001B[43mcollision_matrix\u001B[49m\u001B[43m)\u001B[49m\n\u001B[0;32m      3\u001B[0m     chunked_row_order \u001B[38;5;241m=\u001B[39m new_order_of_rows(chunked_row_collisions)\u001B[38;5;66;03m#.reshape(-1,1) #this is still wrong...\u001B[39;00m\n\u001B[0;32m      4\u001B[0m     \u001B[38;5;66;03m#print(f\"chunked collisions:\")\u001B[39;00m\n\u001B[0;32m      5\u001B[0m     \u001B[38;5;66;03m#print(chunked_row_collisions)\u001B[39;00m\n",
      "File \u001B[1;32m~\\BipartiteGraphHash\\sorted_row_collisions.py:39\u001B[0m, in \u001B[0;36msort_chunked_row_collisions\u001B[1;34m(r_collisions)\u001B[0m\n\u001B[0;32m     37\u001B[0m \u001B[38;5;28;01mdef\u001B[39;00m \u001B[38;5;21msort_chunked_row_collisions\u001B[39m(r_collisions):\n\u001B[0;32m     38\u001B[0m     diags \u001B[38;5;241m=\u001B[39m unique_diags_list(r_collisions)\n\u001B[1;32m---> 39\u001B[0m     r_collisions \u001B[38;5;241m=\u001B[39m \u001B[43msplit_r_collisions\u001B[49m\u001B[43m(\u001B[49m\u001B[43mr_collisions\u001B[49m\u001B[43m,\u001B[49m\u001B[43m \u001B[49m\u001B[43mdiags\u001B[49m\u001B[43m)\u001B[49m\n\u001B[0;32m     41\u001B[0m     \u001B[38;5;28;01mreturn\u001B[39;00m r_collisions\n",
      "File \u001B[1;32m~\\BipartiteGraphHash\\sorted_row_collisions.py:70\u001B[0m, in \u001B[0;36msplit_r_collisions\u001B[1;34m(r_collisions, diags)\u001B[0m\n\u001B[0;32m     68\u001B[0m         split_collisions \u001B[38;5;241m=\u001B[39m r_collisions[r_start:r_end, c_start:c_end]\n\u001B[0;32m     69\u001B[0m         sorted_split_collisions \u001B[38;5;241m=\u001B[39m np\u001B[38;5;241m.\u001B[39msort(split_collisions)\n\u001B[1;32m---> 70\u001B[0m         r_collisions[r_start:r_end, c_start:c_end] \u001B[38;5;241m=\u001B[39m sorted_split_collisions\n\u001B[0;32m     71\u001B[0m         \u001B[38;5;66;03m# np.sort(r_collisions[r_start:r_end, c_start:c_end])\u001B[39;00m\n\u001B[0;32m     72\u001B[0m         \u001B[38;5;66;03m# if i <= j:\u001B[39;00m\n\u001B[0;32m     73\u001B[0m         \u001B[38;5;66;03m#    r_collisions[r_start:r_end, c_start:c_end] = np.sort(r_collisions[r_start:r_end, c_start:c_end])\u001B[39;00m\n\u001B[0;32m     74\u001B[0m         \u001B[38;5;66;03m# else:\u001B[39;00m\n\u001B[0;32m     75\u001B[0m         \u001B[38;5;66;03m#    r_collisions[r_start:r_end, c_start:c_end] = np.zeros((r_end-r_start, c_end-c_start))\u001B[39;00m\n\u001B[0;32m     76\u001B[0m         \u001B[38;5;66;03m#    #np.sort(r_collisions[r_start:r_end, c_start:c_end], axis=1)\u001B[39;00m\n\u001B[0;32m     78\u001B[0m \u001B[38;5;28;01mreturn\u001B[39;00m r_collisions\n",
      "\u001B[1;31mKeyboardInterrupt\u001B[0m: "
     ]
    }
   ],
   "source": [
    "test_matrix(mini_hash_2)"
   ],
   "metadata": {
    "collapsed": false
   }
  },
  {
   "cell_type": "code",
   "execution_count": 86,
   "outputs": [
    {
     "name": "stdout",
     "output_type": "stream",
     "text": [
      "num of matrices: 65536\n",
      "0\n",
      "[[0 0 0 0]\n",
      " [0 0 0 1]\n",
      " [0 0 1 0]\n",
      " [0 0 0 0]]\n",
      "[[0 0 0 0]\n",
      " [0 0 0 1]\n",
      " [0 0 0 0]\n",
      " [0 0 0 0]]\n"
     ]
    },
    {
     "ename": "AssertionError",
     "evalue": "",
     "output_type": "error",
     "traceback": [
      "\u001B[1;31m---------------------------------------------------------------------------\u001B[0m",
      "\u001B[1;31mAssertionError\u001B[0m                            Traceback (most recent call last)",
      "Cell \u001B[1;32mIn[86], line 1\u001B[0m\n\u001B[1;32m----> 1\u001B[0m \u001B[43mtest_matrix\u001B[49m\u001B[43m(\u001B[49m\u001B[43mnew_hash\u001B[49m\u001B[43m)\u001B[49m\n",
      "File \u001B[1;32m~\\BipartiteGraphHash\\gpu_attempt_test.py:94\u001B[0m, in \u001B[0;36mtest_matrix\u001B[1;34m(hash_matrix)\u001B[0m\n\u001B[0;32m     92\u001B[0m \u001B[38;5;28;01mif\u001B[39;00m count \u001B[38;5;241m%\u001B[39m \u001B[38;5;241m1000\u001B[39m \u001B[38;5;241m==\u001B[39m \u001B[38;5;241m0\u001B[39m:\n\u001B[0;32m     93\u001B[0m     \u001B[38;5;28mprint\u001B[39m(count)\n\u001B[1;32m---> 94\u001B[0m \u001B[43mfast_hash_testing\u001B[49m\u001B[43m(\u001B[49m\u001B[43mmat\u001B[49m\u001B[43m,\u001B[49m\u001B[43m \u001B[49m\u001B[43mhash_matrix\u001B[49m\u001B[43m)\u001B[49m\n\u001B[0;32m     95\u001B[0m count \u001B[38;5;241m+\u001B[39m\u001B[38;5;241m=\u001B[39m \u001B[38;5;241m1\u001B[39m\n",
      "File \u001B[1;32m~\\BipartiteGraphHash\\gpu_attempt_test.py:79\u001B[0m, in \u001B[0;36mfast_hash_testing\u001B[1;34m(matrix, hash_matrix)\u001B[0m\n\u001B[0;32m     77\u001B[0m         \u001B[38;5;28mprint\u001B[39m(format_array(i)\u001B[38;5;241m.\u001B[39mreshape((matrix\u001B[38;5;241m.\u001B[39mshape[\u001B[38;5;241m0\u001B[39m], matrix\u001B[38;5;241m.\u001B[39mshape[\u001B[38;5;241m1\u001B[39m])))\n\u001B[0;32m     78\u001B[0m     \u001B[38;5;66;03m# print(hash_dict)\u001B[39;00m\n\u001B[1;32m---> 79\u001B[0m \u001B[38;5;28;01massert\u001B[39;00m \u001B[38;5;28mlen\u001B[39m(hash_dict) \u001B[38;5;241m==\u001B[39m \u001B[38;5;241m1\u001B[39m\n",
      "\u001B[1;31mAssertionError\u001B[0m: "
     ]
    }
   ],
   "source": [
    "test_matrix(new_hash)"
   ],
   "metadata": {
    "collapsed": false
   }
  },
  {
   "cell_type": "code",
   "execution_count": null,
   "outputs": [],
   "source": [
    "def new_order_of_rows(matrix):\n",
    "    return 0"
   ],
   "metadata": {
    "collapsed": false
   }
  },
  {
   "cell_type": "code",
   "execution_count": 32,
   "outputs": [],
   "source": [
    "collision_matrix = np.array([[0, 0, 1, 1],\n",
    "                   [0, 1, 1, 0],\n",
    "                   [0, 1, 1, 0],\n",
    "                   [0, 0, 1, 2]])\n",
    "expected_array = [1, 1, 0, 2]"
   ],
   "metadata": {
    "collapsed": false,
    "ExecuteTime": {
     "start_time": "2023-08-30T15:42:08.051891Z",
     "end_time": "2023-08-30T15:42:08.058889Z"
    }
   }
  },
  {
   "cell_type": "code",
   "execution_count": 43,
   "outputs": [
    {
     "data": {
      "text/plain": "array([[0, 0, 1, 1],\n       [0, 1, 1, 0],\n       [0, 1, 1, 0],\n       [0, 0, 1, 2]])"
     },
     "execution_count": 43,
     "metadata": {},
     "output_type": "execute_result"
    }
   ],
   "source": [
    "collision_matrix"
   ],
   "metadata": {
    "collapsed": false,
    "ExecuteTime": {
     "start_time": "2023-08-30T15:44:44.027850Z",
     "end_time": "2023-08-30T15:44:44.053855Z"
    }
   }
  },
  {
   "cell_type": "code",
   "execution_count": 44,
   "outputs": [
    {
     "data": {
      "text/plain": "array([[0, 0, 0, 0],\n       [0, 1, 1, 0],\n       [1, 1, 1, 1],\n       [1, 0, 0, 2]])"
     },
     "execution_count": 44,
     "metadata": {},
     "output_type": "execute_result"
    }
   ],
   "source": [
    "collision_matrix.T"
   ],
   "metadata": {
    "collapsed": false,
    "ExecuteTime": {
     "start_time": "2023-08-30T15:44:44.361178Z",
     "end_time": "2023-08-30T15:44:44.388413Z"
    }
   }
  },
  {
   "cell_type": "code",
   "execution_count": 54,
   "outputs": [
    {
     "name": "stdout",
     "output_type": "stream",
     "text": [
      "previous index: [1 2 0 3]\n",
      "[0 1 1 0]\n",
      "[0 1 1 0]\n",
      "[0 0 1 1]\n",
      "[0 0 1 2]\n"
     ]
    },
    {
     "data": {
      "text/plain": "array([1, 1, 0, 3], dtype=int64)"
     },
     "execution_count": 54,
     "metadata": {},
     "output_type": "execute_result"
    }
   ],
   "source": [
    "def new_order_of_rows(collision_matrix):\n",
    "    prev_order = np.lexsort(collision_matrix.T)\n",
    "    #print(f\"previous index: {prev_order}\")\n",
    "    prev_row = collision_matrix[prev_order][0]\n",
    "    prev_index = 0\n",
    "    for index, row in enumerate(collision_matrix[prev_order]):\n",
    "        #print(row)\n",
    "        if not np.allclose(prev_row, row):\n",
    "            prev_index = index\n",
    "            prev_row = row\n",
    "        prev_order[index] = prev_order[prev_index]\n",
    "    return prev_order"
   ],
   "metadata": {
    "collapsed": false,
    "ExecuteTime": {
     "start_time": "2023-08-30T15:52:57.356260Z",
     "end_time": "2023-08-30T15:52:57.387275Z"
    }
   }
  },
  {
   "cell_type": "code",
   "execution_count": null,
   "outputs": [],
   "source": [],
   "metadata": {
    "collapsed": false
   }
  }
 ],
 "metadata": {
  "kernelspec": {
   "display_name": "Python 3",
   "language": "python",
   "name": "python3"
  },
  "language_info": {
   "codemirror_mode": {
    "name": "ipython",
    "version": 2
   },
   "file_extension": ".py",
   "mimetype": "text/x-python",
   "name": "python",
   "nbconvert_exporter": "python",
   "pygments_lexer": "ipython2",
   "version": "2.7.6"
  }
 },
 "nbformat": 4,
 "nbformat_minor": 0
}
