{
 "cells": [
  {
   "cell_type": "code",
   "execution_count": 1,
   "metadata": {
    "collapsed": true,
    "ExecuteTime": {
     "start_time": "2023-09-05T02:57:02.285146Z",
     "end_time": "2023-09-05T02:57:03.476244Z"
    }
   },
   "outputs": [],
   "source": [
    "from hash import *\n",
    "import numpy as np\n",
    "from scipy.stats import rankdata"
   ]
  },
  {
   "cell_type": "code",
   "execution_count": 2,
   "outputs": [],
   "source": [
    "def new_hash_adjacency_matrix_helper(matrix):\n",
    "    r_collisions = row_collisions(matrix)\n",
    "    r_diag = np.diag(r_collisions).reshape(1, -1).repeat(r_collisions.shape[0], axis=0)\n",
    "\n",
    "    return new_sort_matrices(r_collisions, r_diag, matrix)"
   ],
   "metadata": {
    "collapsed": false,
    "ExecuteTime": {
     "start_time": "2023-09-05T02:57:03.478245Z",
     "end_time": "2023-09-05T02:57:03.490247Z"
    }
   }
  },
  {
   "cell_type": "code",
   "execution_count": 3,
   "outputs": [],
   "source": [
    "def old_hash_adjacency_matrix_helper(matrix):\n",
    "    r_collisions = row_collisions(matrix)\n",
    "    r_diag = np.diag(r_collisions).reshape(1, -1).repeat(r_collisions.shape[0], axis=0)\n",
    "\n",
    "    return old_sort_matrices(r_collisions, r_diag, matrix)"
   ],
   "metadata": {
    "collapsed": false,
    "ExecuteTime": {
     "start_time": "2023-09-05T02:57:03.493251Z",
     "end_time": "2023-09-05T02:57:03.535263Z"
    }
   }
  },
  {
   "cell_type": "code",
   "execution_count": 4,
   "outputs": [],
   "source": [
    "def old_sort_matrices(r_collisions, r_diag, matrix):\n",
    "    stacked_matrices = np.stack([r_collisions, r_diag], axis=2)\n",
    "\n",
    "    #print(f\"row collisions: {r_collisions}\")\n",
    "    #print(f\"diagonals: {r_diag}\")\n",
    "    #print(f\"stacked 1: {stacked_matrices}\")\n",
    "\n",
    "    for row_index in range(stacked_matrices.shape[0]):\n",
    "        stacked_matrices[row_index] = np.sort(stacked_matrices[row_index], axis=0)\n",
    "\n",
    "    #print(f\"stacked 2: {stacked_matrices}\")\n",
    "\n",
    "    matrix = np.array([x for _, _, x in sorted(\n",
    "        zip(stacked_matrices[:, :, 0].tolist(), stacked_matrices[:, :, 1].tolist(), matrix.tolist()))])\n",
    "\n",
    "    return matrix"
   ],
   "metadata": {
    "collapsed": false,
    "ExecuteTime": {
     "start_time": "2023-09-05T02:57:03.510253Z",
     "end_time": "2023-09-05T02:57:03.535263Z"
    }
   }
  },
  {
   "cell_type": "code",
   "execution_count": 5,
   "outputs": [],
   "source": [
    "def new_sort_matrices(r_collisions, r_diag, matrix):\n",
    "    #stacked_matrices = np.stack([r_collisions, r_diag], axis=2)\n",
    "    stacked_matrices = np.stack([np.sort(r_collisions), r_diag], axis=2) #\n",
    "    #stacked_matrices = np.sort(stacked_matrices, axis=1)\n",
    "\n",
    "    #stacked_matrices = np.stack([np.diag(r_collisions).argsort(), r_collisions[:, 0].argsort()],axis=1)\n",
    "\n",
    "    matrix = np.array([x for _, _, x in sorted(\n",
    "        zip(stacked_matrices[:, :, 0].tolist(), stacked_matrices[:, :, 1].tolist(), matrix.tolist()))])\n",
    "\n",
    "    #matrix = matrix[stacked_matrices[:, 0].argsort()]\n",
    "\n",
    "    return matrix"
   ],
   "metadata": {
    "collapsed": false,
    "ExecuteTime": {
     "start_time": "2023-09-05T02:57:03.528263Z",
     "end_time": "2023-09-05T02:57:03.546266Z"
    }
   }
  },
  {
   "cell_type": "code",
   "execution_count": 6,
   "outputs": [],
   "source": [
    "def rank_repeat_based_generic(arr):\n",
    "    sidx = np.argsort(arr,kind='mergesort')\n",
    "    idx = np.concatenate(([0],np.flatnonzero(np.diff(arr[sidx]))+1,[arr.size]))\n",
    "    return np.repeat(idx[:-1],np.diff(idx))[sidx.argsort()]"
   ],
   "metadata": {
    "collapsed": false,
    "ExecuteTime": {
     "start_time": "2023-09-05T02:57:03.539265Z",
     "end_time": "2023-09-05T02:57:03.554267Z"
    }
   }
  },
  {
   "cell_type": "code",
   "execution_count": 7,
   "outputs": [],
   "source": [
    "def rankmin(x):\n",
    "    u, inv, counts = np.unique(x, return_inverse=True, return_counts=True)\n",
    "    csum = np.zeros_like(counts)\n",
    "    csum[1:] = counts[:-1].cumsum()\n",
    "    return csum[inv]"
   ],
   "metadata": {
    "collapsed": false,
    "ExecuteTime": {
     "start_time": "2023-09-05T02:57:03.557268Z",
     "end_time": "2023-09-05T02:57:03.582277Z"
    }
   }
  },
  {
   "cell_type": "code",
   "execution_count": 8,
   "outputs": [
    {
     "data": {
      "text/plain": "array([[0, 1, 0, 1],\n       [1, 0, 0, 0],\n       [0, 1, 1, 0],\n       [1, 0, 1, 0]])"
     },
     "execution_count": 8,
     "metadata": {},
     "output_type": "execute_result"
    }
   ],
   "source": [
    "sizes=4\n",
    "matrix = np.random.randint(2, size=(sizes, sizes))\n",
    "matrix"
   ],
   "metadata": {
    "collapsed": false,
    "ExecuteTime": {
     "start_time": "2023-09-05T02:57:03.573276Z",
     "end_time": "2023-09-05T02:57:03.607282Z"
    }
   }
  },
  {
   "cell_type": "code",
   "execution_count": 9,
   "outputs": [
    {
     "data": {
      "text/plain": "True"
     },
     "execution_count": 9,
     "metadata": {},
     "output_type": "execute_result"
    }
   ],
   "source": [
    "m1 = old_hash_adjacency_matrix_helper(matrix)\n",
    "m2 = new_hash_adjacency_matrix_helper(matrix)\n",
    "np.allclose(m1, m2)"
   ],
   "metadata": {
    "collapsed": false,
    "ExecuteTime": {
     "start_time": "2023-09-05T02:57:08.892708Z",
     "end_time": "2023-09-05T02:57:08.938716Z"
    }
   }
  },
  {
   "cell_type": "code",
   "execution_count": 336,
   "outputs": [],
   "source": [
    "r_collisions = row_collisions(matrix)\n",
    "r_diag = np.diag(r_collisions).reshape(1, -1).repeat(r_collisions.shape[0], axis=0)"
   ],
   "metadata": {
    "collapsed": false,
    "ExecuteTime": {
     "start_time": "2023-08-21T22:42:09.510366Z",
     "end_time": "2023-08-21T22:42:09.533628Z"
    }
   }
  },
  {
   "cell_type": "code",
   "execution_count": 337,
   "outputs": [
    {
     "data": {
      "text/plain": "array([[3, 2, 2, 0],\n       [2, 2, 1, 0],\n       [2, 1, 3, 1],\n       [0, 0, 1, 1]])"
     },
     "execution_count": 337,
     "metadata": {},
     "output_type": "execute_result"
    }
   ],
   "source": [
    "r_collisions"
   ],
   "metadata": {
    "collapsed": false,
    "ExecuteTime": {
     "start_time": "2023-08-21T22:42:13.048120Z",
     "end_time": "2023-08-21T22:42:13.069127Z"
    }
   }
  },
  {
   "cell_type": "code",
   "execution_count": 342,
   "outputs": [
    {
     "data": {
      "text/plain": "array([[0, 2, 2, 3],\n       [0, 1, 2, 2],\n       [1, 1, 2, 3],\n       [0, 0, 1, 1]])"
     },
     "execution_count": 342,
     "metadata": {},
     "output_type": "execute_result"
    }
   ],
   "source": [
    "np.sort(r_collisions)"
   ],
   "metadata": {
    "collapsed": false,
    "ExecuteTime": {
     "start_time": "2023-08-21T22:42:57.201185Z",
     "end_time": "2023-08-21T22:42:57.220189Z"
    }
   }
  },
  {
   "cell_type": "code",
   "execution_count": 338,
   "outputs": [
    {
     "data": {
      "text/plain": "array([[3, 2, 3, 1],\n       [3, 2, 3, 1],\n       [3, 2, 3, 1],\n       [3, 2, 3, 1]])"
     },
     "execution_count": 338,
     "metadata": {},
     "output_type": "execute_result"
    }
   ],
   "source": [
    "r_diag"
   ],
   "metadata": {
    "collapsed": false,
    "ExecuteTime": {
     "start_time": "2023-08-21T22:42:17.385699Z",
     "end_time": "2023-08-21T22:42:17.408704Z"
    }
   }
  },
  {
   "cell_type": "code",
   "execution_count": null,
   "outputs": [],
   "source": [
    "stacked_matrices = np.stack([np.sort(r_collisions), r_diag], axis=2)"
   ],
   "metadata": {
    "collapsed": false
   }
  },
  {
   "cell_type": "code",
   "execution_count": null,
   "outputs": [],
   "source": [],
   "metadata": {
    "collapsed": false
   }
  },
  {
   "cell_type": "code",
   "execution_count": 285,
   "outputs": [
    {
     "data": {
      "text/plain": "array([[0, 1, 1, 1],\n       [1, 1, 1, 0],\n       [1, 0, 1, 1],\n       [1, 0, 1, 1]])"
     },
     "execution_count": 285,
     "metadata": {},
     "output_type": "execute_result"
    }
   ],
   "source": [
    "m1"
   ],
   "metadata": {
    "collapsed": false,
    "ExecuteTime": {
     "start_time": "2023-08-21T17:26:14.460686Z",
     "end_time": "2023-08-21T17:26:14.486696Z"
    }
   }
  },
  {
   "cell_type": "code",
   "execution_count": 286,
   "outputs": [
    {
     "data": {
      "text/plain": "array([[1, 1, 1, 0],\n       [1, 0, 1, 1],\n       [0, 1, 1, 1],\n       [1, 0, 1, 1]])"
     },
     "execution_count": 286,
     "metadata": {},
     "output_type": "execute_result"
    }
   ],
   "source": [
    "m2"
   ],
   "metadata": {
    "collapsed": false,
    "ExecuteTime": {
     "start_time": "2023-08-21T17:26:14.763591Z",
     "end_time": "2023-08-21T17:26:14.776594Z"
    }
   }
  },
  {
   "cell_type": "code",
   "execution_count": 179,
   "outputs": [],
   "source": [],
   "metadata": {
    "collapsed": false,
    "ExecuteTime": {
     "start_time": "2023-08-21T16:59:15.091824Z",
     "end_time": "2023-08-21T16:59:15.114829Z"
    }
   }
  },
  {
   "cell_type": "code",
   "execution_count": 301,
   "outputs": [
    {
     "data": {
      "text/plain": "array([2, 2, 3, 1, 3])"
     },
     "execution_count": 301,
     "metadata": {},
     "output_type": "execute_result"
    }
   ],
   "source": [
    "temp_r = np.random.randint(4, size=(5))\n",
    "temp_r"
   ],
   "metadata": {
    "collapsed": false,
    "ExecuteTime": {
     "start_time": "2023-08-21T22:04:31.564340Z",
     "end_time": "2023-08-21T22:04:31.590345Z"
    }
   }
  },
  {
   "cell_type": "code",
   "execution_count": 318,
   "outputs": [
    {
     "name": "stdout",
     "output_type": "stream",
     "text": [
      "36.1 µs ± 2.37 µs per loop (mean ± std. dev. of 7 runs, 10,000 loops each)\n"
     ]
    }
   ],
   "source": [
    "%timeit rank_repeat_based_generic(temp_r)"
   ],
   "metadata": {
    "collapsed": false,
    "ExecuteTime": {
     "start_time": "2023-08-21T22:12:16.421951Z",
     "end_time": "2023-08-21T22:12:19.336281Z"
    }
   }
  },
  {
   "cell_type": "code",
   "execution_count": 319,
   "outputs": [
    {
     "name": "stdout",
     "output_type": "stream",
     "text": [
      "68.6 µs ± 1.38 µs per loop (mean ± std. dev. of 7 runs, 10,000 loops each)\n"
     ]
    }
   ],
   "source": [
    "%timeit rankdata(temp_r, method='min')"
   ],
   "metadata": {
    "collapsed": false,
    "ExecuteTime": {
     "start_time": "2023-08-21T22:12:19.338281Z",
     "end_time": "2023-08-21T22:12:24.955500Z"
    }
   }
  },
  {
   "cell_type": "code",
   "execution_count": 320,
   "outputs": [
    {
     "name": "stdout",
     "output_type": "stream",
     "text": [
      "51.8 µs ± 821 ns per loop (mean ± std. dev. of 7 runs, 10,000 loops each)\n"
     ]
    }
   ],
   "source": [
    "%timeit rankmin(temp_r)"
   ],
   "metadata": {
    "collapsed": false,
    "ExecuteTime": {
     "start_time": "2023-08-21T22:12:24.955500Z",
     "end_time": "2023-08-21T22:12:29.155241Z"
    }
   }
  },
  {
   "cell_type": "code",
   "execution_count": 82,
   "outputs": [
    {
     "data": {
      "text/plain": "array([[1, 0, 0, 1],\n       [0, 0, 0, 1],\n       [0, 0, 1, 0],\n       [1, 1, 0, 1]])"
     },
     "execution_count": 82,
     "metadata": {},
     "output_type": "execute_result"
    }
   ],
   "source": [
    "sizes=4\n",
    "matrix = np.random.randint(2, size=(sizes, sizes))\n",
    "matrix"
   ],
   "metadata": {
    "collapsed": false,
    "ExecuteTime": {
     "start_time": "2023-08-22T16:43:46.280684Z",
     "end_time": "2023-08-22T16:43:46.302688Z"
    }
   }
  },
  {
   "cell_type": "code",
   "execution_count": 83,
   "outputs": [
    {
     "data": {
      "text/plain": "array([[2, 1, 0, 2],\n       [1, 1, 0, 1],\n       [0, 0, 1, 0],\n       [2, 1, 0, 3]])"
     },
     "execution_count": 83,
     "metadata": {},
     "output_type": "execute_result"
    }
   ],
   "source": [
    "row_collisions(matrix)"
   ],
   "metadata": {
    "collapsed": false,
    "ExecuteTime": {
     "start_time": "2023-08-22T16:43:46.657206Z",
     "end_time": "2023-08-22T16:43:46.678209Z"
    }
   }
  },
  {
   "cell_type": "code",
   "execution_count": 111,
   "outputs": [
    {
     "data": {
      "text/plain": "array([[2, 1, 0, 3],\n       [2, 0, 1, 3],\n       [0, 1, 3, 2],\n       [2, 1, 0, 3]], dtype=int64)"
     },
     "execution_count": 111,
     "metadata": {},
     "output_type": "execute_result"
    }
   ],
   "source": [
    "np.argsort(row_collisions(matrix),axis=1)"
   ],
   "metadata": {
    "collapsed": false,
    "ExecuteTime": {
     "start_time": "2023-08-22T16:57:03.901306Z",
     "end_time": "2023-08-22T16:57:03.916309Z"
    }
   }
  },
  {
   "cell_type": "code",
   "execution_count": 110,
   "outputs": [
    {
     "data": {
      "text/plain": "array([[0, 1, 2, 2],\n       [0, 1, 1, 1],\n       [0, 0, 0, 1],\n       [0, 1, 2, 3]])"
     },
     "execution_count": 110,
     "metadata": {},
     "output_type": "execute_result"
    }
   ],
   "source": [
    "np.sort(row_collisions(matrix),axis=1)"
   ],
   "metadata": {
    "collapsed": false,
    "ExecuteTime": {
     "start_time": "2023-08-22T16:56:48.287663Z",
     "end_time": "2023-08-22T16:56:48.315676Z"
    }
   }
  },
  {
   "cell_type": "code",
   "execution_count": 107,
   "outputs": [
    {
     "data": {
      "text/plain": "array([0, 1, 2, 3], dtype=int64)"
     },
     "execution_count": 107,
     "metadata": {},
     "output_type": "execute_result"
    }
   ],
   "source": [
    "#np.sort(row_collisions(matrix)).argsort(axis=0)\n",
    "np.sort(row_collisions(matrix))[0, :].argsort()"
   ],
   "metadata": {
    "collapsed": false,
    "ExecuteTime": {
     "start_time": "2023-08-22T16:54:22.441280Z",
     "end_time": "2023-08-22T16:54:22.456284Z"
    }
   }
  },
  {
   "cell_type": "code",
   "execution_count": 86,
   "outputs": [
    {
     "data": {
      "text/plain": "array([2, 1, 0, 3], dtype=int64)"
     },
     "execution_count": 86,
     "metadata": {},
     "output_type": "execute_result"
    }
   ],
   "source": [
    "row_swaps = row_collisions(matrix)[:, 0].argsort()\n",
    "row_swaps"
   ],
   "metadata": {
    "collapsed": false,
    "ExecuteTime": {
     "start_time": "2023-08-22T16:47:56.358964Z",
     "end_time": "2023-08-22T16:47:56.387184Z"
    }
   }
  },
  {
   "cell_type": "code",
   "execution_count": 84,
   "outputs": [
    {
     "data": {
      "text/plain": "array([2, 1, 0, 3], dtype=int64)"
     },
     "execution_count": 84,
     "metadata": {},
     "output_type": "execute_result"
    }
   ],
   "source": [
    "row_swaps = row_collisions(matrix)[0, :].argsort()\n",
    "row_swaps"
   ],
   "metadata": {
    "collapsed": false,
    "ExecuteTime": {
     "start_time": "2023-08-22T16:43:52.539419Z",
     "end_time": "2023-08-22T16:43:52.543419Z"
    }
   }
  },
  {
   "cell_type": "code",
   "execution_count": 60,
   "outputs": [
    {
     "data": {
      "text/plain": "array([1, 2, 0, 3], dtype=int64)"
     },
     "execution_count": 60,
     "metadata": {},
     "output_type": "execute_result"
    }
   ],
   "source": [
    "col_swaps = row_collisions(matrix.T)[0, :].argsort()\n",
    "col_swaps"
   ],
   "metadata": {
    "collapsed": false,
    "ExecuteTime": {
     "start_time": "2023-08-22T16:26:59.137125Z",
     "end_time": "2023-08-22T16:26:59.183414Z"
    }
   }
  },
  {
   "cell_type": "code",
   "execution_count": 77,
   "outputs": [
    {
     "data": {
      "text/plain": "array([[2, 0, 1, 1],\n       [0, 1, 1, 1],\n       [1, 1, 3, 2],\n       [1, 1, 2, 3]])"
     },
     "execution_count": 77,
     "metadata": {},
     "output_type": "execute_result"
    }
   ],
   "source": [
    "row_collisions(matrix[row_swaps])"
   ],
   "metadata": {
    "collapsed": false,
    "ExecuteTime": {
     "start_time": "2023-08-22T16:42:49.064600Z",
     "end_time": "2023-08-22T16:42:49.088608Z"
    }
   }
  },
  {
   "cell_type": "code",
   "execution_count": 76,
   "outputs": [
    {
     "data": {
      "text/plain": "array([[2, 1, 1, 1],\n       [1, 2, 1, 1],\n       [1, 1, 2, 2],\n       [1, 1, 2, 3]])"
     },
     "execution_count": 76,
     "metadata": {},
     "output_type": "execute_result"
    }
   ],
   "source": [
    "row_collisions(matrix[:, col_swaps].T)"
   ],
   "metadata": {
    "collapsed": false,
    "ExecuteTime": {
     "start_time": "2023-08-22T16:42:33.858544Z",
     "end_time": "2023-08-22T16:42:33.883555Z"
    }
   }
  },
  {
   "cell_type": "code",
   "execution_count": 35,
   "outputs": [
    {
     "data": {
      "text/plain": "array([[1, 0, 0, 1],\n       [1, 1, 0, 1],\n       [0, 0, 1, 1],\n       [1, 1, 1, 1]])"
     },
     "execution_count": 35,
     "metadata": {},
     "output_type": "execute_result"
    }
   ],
   "source": [
    "matrix[:, col_swaps]"
   ],
   "metadata": {
    "collapsed": false,
    "ExecuteTime": {
     "start_time": "2023-08-22T16:12:18.337031Z",
     "end_time": "2023-08-22T16:12:18.360039Z"
    }
   }
  },
  {
   "cell_type": "code",
   "execution_count": 73,
   "outputs": [
    {
     "data": {
      "text/plain": "array([[1, 1, 0, 0],\n       [0, 0, 0, 1],\n       [1, 0, 1, 1],\n       [0, 1, 1, 1]])"
     },
     "execution_count": 73,
     "metadata": {},
     "output_type": "execute_result"
    }
   ],
   "source": [
    "#swapped_matrix = matrix[row_swaps[:, np.newaxis], col_swaps]\n",
    "swapped_matrix = matrix[row_swaps][:, col_swaps]\n",
    "swapped_matrix"
   ],
   "metadata": {
    "collapsed": false,
    "ExecuteTime": {
     "start_time": "2023-08-22T16:37:56.200316Z",
     "end_time": "2023-08-22T16:37:56.230033Z"
    }
   }
  },
  {
   "cell_type": "code",
   "execution_count": 74,
   "outputs": [
    {
     "data": {
      "text/plain": "array([[2, 0, 1, 1],\n       [0, 1, 1, 1],\n       [1, 1, 3, 2],\n       [1, 1, 2, 3]])"
     },
     "execution_count": 74,
     "metadata": {},
     "output_type": "execute_result"
    }
   ],
   "source": [
    "row_collisions(swapped_matrix)"
   ],
   "metadata": {
    "collapsed": false,
    "ExecuteTime": {
     "start_time": "2023-08-22T16:37:56.484268Z",
     "end_time": "2023-08-22T16:37:56.510273Z"
    }
   }
  },
  {
   "cell_type": "code",
   "execution_count": 75,
   "outputs": [
    {
     "data": {
      "text/plain": "array([[2, 1, 1, 1],\n       [1, 2, 1, 1],\n       [1, 1, 2, 2],\n       [1, 1, 2, 3]])"
     },
     "execution_count": 75,
     "metadata": {},
     "output_type": "execute_result"
    }
   ],
   "source": [
    "row_collisions(swapped_matrix.T)"
   ],
   "metadata": {
    "collapsed": false,
    "ExecuteTime": {
     "start_time": "2023-08-22T16:37:56.787395Z",
     "end_time": "2023-08-22T16:37:56.810401Z"
    }
   }
  },
  {
   "cell_type": "code",
   "execution_count": 40,
   "outputs": [
    {
     "name": "stdout",
     "output_type": "stream",
     "text": [
      "Original matrix:\n",
      "[[1 2 3]\n",
      " [4 5 6]\n",
      " [7 8 9]]\n",
      "\n",
      "Swapped matrix:\n",
      "[[8 9 7]\n",
      " [2 3 1]\n",
      " [5 6 4]]\n"
     ]
    }
   ],
   "source": [
    "matrix = np.array([[1, 2, 3],\n",
    "                   [4, 5, 6],\n",
    "                   [7, 8, 9]])\n",
    "\n",
    "# Define the indices for row and column swaps\n",
    "row_swaps = np.array([2, 0, 1])  # New order of rows\n",
    "col_swaps = np.array([1, 2, 0])  # New order of columns\n",
    "\n",
    "# Swap both rows and columns using advanced indexing\n",
    "swapped_matrix = matrix[row_swaps[:, np.newaxis], col_swaps]\n",
    "\n",
    "print(\"Original matrix:\")\n",
    "print(matrix)\n",
    "print(\"\\nSwapped matrix:\")\n",
    "print(swapped_matrix)"
   ],
   "metadata": {
    "collapsed": false,
    "ExecuteTime": {
     "start_time": "2023-08-22T16:19:44.228315Z",
     "end_time": "2023-08-22T16:19:44.286334Z"
    }
   }
  },
  {
   "cell_type": "code",
   "execution_count": 66,
   "outputs": [
    {
     "data": {
      "text/plain": "array([[1, 1, 0, 0],\n       [0, 0, 0, 1],\n       [1, 0, 1, 1],\n       [0, 1, 1, 1]])"
     },
     "execution_count": 66,
     "metadata": {},
     "output_type": "execute_result"
    }
   ],
   "source": [
    "matrix[row_swaps][:, col_swaps]"
   ],
   "metadata": {
    "collapsed": false,
    "ExecuteTime": {
     "start_time": "2023-08-22T16:36:22.276113Z",
     "end_time": "2023-08-22T16:36:22.302120Z"
    }
   }
  },
  {
   "cell_type": "code",
   "execution_count": null,
   "outputs": [],
   "source": [],
   "metadata": {
    "collapsed": false
   }
  }
 ],
 "metadata": {
  "kernelspec": {
   "display_name": "Python 3",
   "language": "python",
   "name": "python3"
  },
  "language_info": {
   "codemirror_mode": {
    "name": "ipython",
    "version": 2
   },
   "file_extension": ".py",
   "mimetype": "text/x-python",
   "name": "python",
   "nbconvert_exporter": "python",
   "pygments_lexer": "ipython2",
   "version": "2.7.6"
  }
 },
 "nbformat": 4,
 "nbformat_minor": 0
}
